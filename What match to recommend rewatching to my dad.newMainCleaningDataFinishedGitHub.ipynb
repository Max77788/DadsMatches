{
 "cells": [
  {
   "cell_type": "markdown",
   "id": "71d6b483",
   "metadata": {},
   "source": [
    "# What match to recommend watching to my dad?"
   ]
  },
  {
   "cell_type": "markdown",
   "id": "846ba7ac",
   "metadata": {},
   "source": [
    "The amazing world cup is going to its finish, so it is time to plan what matches to prefer to spectate in the future. Fortunately, the choice is wide. Top 5 leagues will come back just in few weeks, the eurocups will be online in a bit longer period but also pretty soon. My dad is a huge football fan as well I am, and I decided to make a list of attributes the most interesting match should have, based on what my father is fascinated by during watching sport broadcasts(amount of goals, domination of one team over the opponent or in opposite way the fierce fight until the last breathe, etc.) and the average time the match is about to start, so it can fit the schedule of my busy dad. Here we have the trove of data to deal with, where over 50000 records are made over the last 20 years. So there are the questions we are going to find the answer for:  What match to recommend rewatching to my dad?"
   ]
  },
  {
   "cell_type": "markdown",
   "id": "9c163796",
   "metadata": {},
   "source": [
    "Let's examine the wants my dad provided, regarding his dream match:\n",
    "1. Exactly one of the teams has letter 'U' in its name and it must win\n",
    "2. The match does not start later than 20:00 \n",
    "3. Minimum 2 goals are scored\n",
    "4. Match is played in summer"
   ]
  },
  {
   "cell_type": "markdown",
   "id": "e8a5255e",
   "metadata": {},
   "source": [
    "In addition to this, we will look for tendencies of certain leagues and concrete football clubs meeting these requirements so my dad will know for what matches he should take his time for"
   ]
  },
  {
   "cell_type": "markdown",
   "id": "4a155800",
   "metadata": {},
   "source": [
    "Let's form the plan we will follow during analysis:\n",
    "1. Find out the most interesting match to rewatch from the past(the time condition is irrelevant at this step, thus we can put it down here)\n",
    "2. Determine the competition, which suits the dad's wishes the most\n",
    "3. Search the team, which meets the requirements the most"
   ]
  },
  {
   "cell_type": "markdown",
   "id": "83242fb5",
   "metadata": {},
   "source": [
    "The very first thing we need to do is to validate our data and clean where needed"
   ]
  },
  {
   "cell_type": "code",
   "execution_count": 15,
   "id": "86e8a2ac",
   "metadata": {},
   "outputs": [],
   "source": [
    "import pandas as pd\n",
    "import numpy as np\n",
    "football_data = pd.read_csv(r\"C:\\Users\\mmatr\\OneDrive\\Рабочий стол\\Football dataset\\Full_Kaggle_Dataset.csv\")"
   ]
  },
  {
   "cell_type": "code",
   "execution_count": 16,
   "id": "db15718c",
   "metadata": {},
   "outputs": [
    {
     "data": {
      "text/plain": [
       "(51402, 16)"
      ]
     },
     "metadata": {},
     "output_type": "display_data"
    },
    {
     "data": {
      "text/html": [
       "<div>\n",
       "<style scoped>\n",
       "    .dataframe tbody tr th:only-of-type {\n",
       "        vertical-align: middle;\n",
       "    }\n",
       "\n",
       "    .dataframe tbody tr th {\n",
       "        vertical-align: top;\n",
       "    }\n",
       "\n",
       "    .dataframe thead th {\n",
       "        text-align: right;\n",
       "    }\n",
       "</style>\n",
       "<table border=\"1\" class=\"dataframe\">\n",
       "  <thead>\n",
       "    <tr style=\"text-align: right;\">\n",
       "      <th></th>\n",
       "      <th>Home_Score</th>\n",
       "      <th>Away_Score</th>\n",
       "      <th>Home_Score_AET</th>\n",
       "      <th>Away_Score_AET</th>\n",
       "      <th>Home_Penalties</th>\n",
       "      <th>Away_Penalties</th>\n",
       "      <th>Home_Points</th>\n",
       "      <th>Away_Points</th>\n",
       "      <th>season</th>\n",
       "    </tr>\n",
       "  </thead>\n",
       "  <tbody>\n",
       "    <tr>\n",
       "      <th>count</th>\n",
       "      <td>51273.000000</td>\n",
       "      <td>51273.000000</td>\n",
       "      <td>1469.000000</td>\n",
       "      <td>1469.000000</td>\n",
       "      <td>809.000000</td>\n",
       "      <td>809.000000</td>\n",
       "      <td>51273.000000</td>\n",
       "      <td>51273.000000</td>\n",
       "      <td>51402.000000</td>\n",
       "    </tr>\n",
       "    <tr>\n",
       "      <th>mean</th>\n",
       "      <td>1.507480</td>\n",
       "      <td>1.190997</td>\n",
       "      <td>1.467665</td>\n",
       "      <td>1.424779</td>\n",
       "      <td>3.824475</td>\n",
       "      <td>3.950556</td>\n",
       "      <td>1.608761</td>\n",
       "      <td>1.163731</td>\n",
       "      <td>2011.906735</td>\n",
       "    </tr>\n",
       "    <tr>\n",
       "      <th>std</th>\n",
       "      <td>1.299938</td>\n",
       "      <td>1.189068</td>\n",
       "      <td>1.151268</td>\n",
       "      <td>1.123485</td>\n",
       "      <td>1.823620</td>\n",
       "      <td>1.787616</td>\n",
       "      <td>1.335362</td>\n",
       "      <td>1.296897</td>\n",
       "      <td>5.759252</td>\n",
       "    </tr>\n",
       "    <tr>\n",
       "      <th>min</th>\n",
       "      <td>0.000000</td>\n",
       "      <td>0.000000</td>\n",
       "      <td>0.000000</td>\n",
       "      <td>0.000000</td>\n",
       "      <td>0.000000</td>\n",
       "      <td>0.000000</td>\n",
       "      <td>0.000000</td>\n",
       "      <td>0.000000</td>\n",
       "      <td>2002.000000</td>\n",
       "    </tr>\n",
       "    <tr>\n",
       "      <th>25%</th>\n",
       "      <td>1.000000</td>\n",
       "      <td>0.000000</td>\n",
       "      <td>1.000000</td>\n",
       "      <td>1.000000</td>\n",
       "      <td>3.000000</td>\n",
       "      <td>3.000000</td>\n",
       "      <td>0.000000</td>\n",
       "      <td>0.000000</td>\n",
       "      <td>2007.000000</td>\n",
       "    </tr>\n",
       "    <tr>\n",
       "      <th>50%</th>\n",
       "      <td>1.000000</td>\n",
       "      <td>1.000000</td>\n",
       "      <td>1.000000</td>\n",
       "      <td>1.000000</td>\n",
       "      <td>4.000000</td>\n",
       "      <td>4.000000</td>\n",
       "      <td>1.000000</td>\n",
       "      <td>1.000000</td>\n",
       "      <td>2012.000000</td>\n",
       "    </tr>\n",
       "    <tr>\n",
       "      <th>75%</th>\n",
       "      <td>2.000000</td>\n",
       "      <td>2.000000</td>\n",
       "      <td>2.000000</td>\n",
       "      <td>2.000000</td>\n",
       "      <td>5.000000</td>\n",
       "      <td>5.000000</td>\n",
       "      <td>3.000000</td>\n",
       "      <td>3.000000</td>\n",
       "      <td>2017.000000</td>\n",
       "    </tr>\n",
       "    <tr>\n",
       "      <th>max</th>\n",
       "      <td>14.000000</td>\n",
       "      <td>15.000000</td>\n",
       "      <td>8.000000</td>\n",
       "      <td>6.000000</td>\n",
       "      <td>13.000000</td>\n",
       "      <td>14.000000</td>\n",
       "      <td>3.000000</td>\n",
       "      <td>3.000000</td>\n",
       "      <td>2022.000000</td>\n",
       "    </tr>\n",
       "  </tbody>\n",
       "</table>\n",
       "</div>"
      ],
      "text/plain": [
       "         Home_Score    Away_Score  Home_Score_AET  Away_Score_AET  \\\n",
       "count  51273.000000  51273.000000     1469.000000     1469.000000   \n",
       "mean       1.507480      1.190997        1.467665        1.424779   \n",
       "std        1.299938      1.189068        1.151268        1.123485   \n",
       "min        0.000000      0.000000        0.000000        0.000000   \n",
       "25%        1.000000      0.000000        1.000000        1.000000   \n",
       "50%        1.000000      1.000000        1.000000        1.000000   \n",
       "75%        2.000000      2.000000        2.000000        2.000000   \n",
       "max       14.000000     15.000000        8.000000        6.000000   \n",
       "\n",
       "       Home_Penalties  Away_Penalties   Home_Points   Away_Points  \\\n",
       "count      809.000000      809.000000  51273.000000  51273.000000   \n",
       "mean         3.824475        3.950556      1.608761      1.163731   \n",
       "std          1.823620        1.787616      1.335362      1.296897   \n",
       "min          0.000000        0.000000      0.000000      0.000000   \n",
       "25%          3.000000        3.000000      0.000000      0.000000   \n",
       "50%          4.000000        4.000000      1.000000      1.000000   \n",
       "75%          5.000000        5.000000      3.000000      3.000000   \n",
       "max         13.000000       14.000000      3.000000      3.000000   \n",
       "\n",
       "             season  \n",
       "count  51402.000000  \n",
       "mean    2011.906735  \n",
       "std        5.759252  \n",
       "min     2002.000000  \n",
       "25%     2007.000000  \n",
       "50%     2012.000000  \n",
       "75%     2017.000000  \n",
       "max     2022.000000  "
      ]
     },
     "execution_count": 16,
     "metadata": {},
     "output_type": "execute_result"
    }
   ],
   "source": [
    "display(football_data.shape)\n",
    "football_data.describe()"
   ]
  },
  {
   "cell_type": "code",
   "execution_count": 17,
   "id": "1efd1a9e",
   "metadata": {},
   "outputs": [
    {
     "data": {
      "text/html": [
       "<div>\n",
       "<style scoped>\n",
       "    .dataframe tbody tr th:only-of-type {\n",
       "        vertical-align: middle;\n",
       "    }\n",
       "\n",
       "    .dataframe tbody tr th {\n",
       "        vertical-align: top;\n",
       "    }\n",
       "\n",
       "    .dataframe thead th {\n",
       "        text-align: right;\n",
       "    }\n",
       "</style>\n",
       "<table border=\"1\" class=\"dataframe\">\n",
       "  <thead>\n",
       "    <tr style=\"text-align: right;\">\n",
       "      <th></th>\n",
       "      <th>Round</th>\n",
       "      <th>Date</th>\n",
       "      <th>Time</th>\n",
       "      <th>Home_Team</th>\n",
       "      <th>Home_Score</th>\n",
       "      <th>Away_Score</th>\n",
       "      <th>Away_Team</th>\n",
       "      <th>Home_Score_AET</th>\n",
       "      <th>Away_Score_AET</th>\n",
       "      <th>Home_Penalties</th>\n",
       "      <th>Away_Penalties</th>\n",
       "      <th>Home_Points</th>\n",
       "      <th>Away_Points</th>\n",
       "      <th>season</th>\n",
       "      <th>Country</th>\n",
       "      <th>Competition</th>\n",
       "    </tr>\n",
       "  </thead>\n",
       "  <tbody>\n",
       "    <tr>\n",
       "      <th>0</th>\n",
       "      <td>ROUND 1</td>\n",
       "      <td>31/08/2002</td>\n",
       "      <td>22:30</td>\n",
       "      <td>RACING SANTANDER</td>\n",
       "      <td>0.0</td>\n",
       "      <td>1.0</td>\n",
       "      <td>VALLADOLID</td>\n",
       "      <td>NaN</td>\n",
       "      <td>NaN</td>\n",
       "      <td>NaN</td>\n",
       "      <td>NaN</td>\n",
       "      <td>0.0</td>\n",
       "      <td>3.0</td>\n",
       "      <td>2002</td>\n",
       "      <td>spain</td>\n",
       "      <td>primera-division</td>\n",
       "    </tr>\n",
       "    <tr>\n",
       "      <th>1</th>\n",
       "      <td>ROUND 1</td>\n",
       "      <td>01/09/2002</td>\n",
       "      <td>21:00</td>\n",
       "      <td>RAYO VALLECANO</td>\n",
       "      <td>2.0</td>\n",
       "      <td>2.0</td>\n",
       "      <td>ALAVES</td>\n",
       "      <td>NaN</td>\n",
       "      <td>NaN</td>\n",
       "      <td>NaN</td>\n",
       "      <td>NaN</td>\n",
       "      <td>1.0</td>\n",
       "      <td>1.0</td>\n",
       "      <td>2002</td>\n",
       "      <td>spain</td>\n",
       "      <td>primera-division</td>\n",
       "    </tr>\n",
       "    <tr>\n",
       "      <th>2</th>\n",
       "      <td>ROUND 1</td>\n",
       "      <td>01/09/2002</td>\n",
       "      <td>21:00</td>\n",
       "      <td>REAL SOCIEDAD</td>\n",
       "      <td>4.0</td>\n",
       "      <td>2.0</td>\n",
       "      <td>ATHLETIC BILBAO</td>\n",
       "      <td>NaN</td>\n",
       "      <td>NaN</td>\n",
       "      <td>NaN</td>\n",
       "      <td>NaN</td>\n",
       "      <td>3.0</td>\n",
       "      <td>0.0</td>\n",
       "      <td>2002</td>\n",
       "      <td>spain</td>\n",
       "      <td>primera-division</td>\n",
       "    </tr>\n",
       "    <tr>\n",
       "      <th>3</th>\n",
       "      <td>ROUND 1</td>\n",
       "      <td>01/09/2002</td>\n",
       "      <td>22:00</td>\n",
       "      <td>MALLORCA</td>\n",
       "      <td>0.0</td>\n",
       "      <td>2.0</td>\n",
       "      <td>VALENCIA</td>\n",
       "      <td>NaN</td>\n",
       "      <td>NaN</td>\n",
       "      <td>NaN</td>\n",
       "      <td>NaN</td>\n",
       "      <td>0.0</td>\n",
       "      <td>3.0</td>\n",
       "      <td>2002</td>\n",
       "      <td>spain</td>\n",
       "      <td>primera-division</td>\n",
       "    </tr>\n",
       "    <tr>\n",
       "      <th>4</th>\n",
       "      <td>ROUND 1</td>\n",
       "      <td>01/09/2002</td>\n",
       "      <td>22:30</td>\n",
       "      <td>VILLARREAL</td>\n",
       "      <td>2.0</td>\n",
       "      <td>2.0</td>\n",
       "      <td>OSASUNA</td>\n",
       "      <td>NaN</td>\n",
       "      <td>NaN</td>\n",
       "      <td>NaN</td>\n",
       "      <td>NaN</td>\n",
       "      <td>1.0</td>\n",
       "      <td>1.0</td>\n",
       "      <td>2002</td>\n",
       "      <td>spain</td>\n",
       "      <td>primera-division</td>\n",
       "    </tr>\n",
       "  </tbody>\n",
       "</table>\n",
       "</div>"
      ],
      "text/plain": [
       "     Round        Date   Time         Home_Team  Home_Score  Away_Score  \\\n",
       "0  ROUND 1  31/08/2002  22:30  RACING SANTANDER         0.0         1.0   \n",
       "1  ROUND 1  01/09/2002  21:00    RAYO VALLECANO         2.0         2.0   \n",
       "2  ROUND 1  01/09/2002  21:00     REAL SOCIEDAD         4.0         2.0   \n",
       "3  ROUND 1  01/09/2002  22:00          MALLORCA         0.0         2.0   \n",
       "4  ROUND 1  01/09/2002  22:30        VILLARREAL         2.0         2.0   \n",
       "\n",
       "         Away_Team  Home_Score_AET  Away_Score_AET  Home_Penalties  \\\n",
       "0       VALLADOLID             NaN             NaN             NaN   \n",
       "1           ALAVES             NaN             NaN             NaN   \n",
       "2  ATHLETIC BILBAO             NaN             NaN             NaN   \n",
       "3         VALENCIA             NaN             NaN             NaN   \n",
       "4          OSASUNA             NaN             NaN             NaN   \n",
       "\n",
       "   Away_Penalties  Home_Points  Away_Points  season Country       Competition  \n",
       "0             NaN          0.0          3.0    2002   spain  primera-division  \n",
       "1             NaN          1.0          1.0    2002   spain  primera-division  \n",
       "2             NaN          3.0          0.0    2002   spain  primera-division  \n",
       "3             NaN          0.0          3.0    2002   spain  primera-division  \n",
       "4             NaN          1.0          1.0    2002   spain  primera-division  "
      ]
     },
     "execution_count": 17,
     "metadata": {},
     "output_type": "execute_result"
    }
   ],
   "source": [
    "football_data.columns\n",
    "football_data.head()"
   ]
  },
  {
   "cell_type": "markdown",
   "id": "a2a21e89",
   "metadata": {},
   "source": [
    "O-oh, we see that amount of non-null values in 'Home_Score', 'Away_Score' 'Home_Points' and 'Away_Points' columns don't match the length of the dataframe.\n",
    "Therefore we are going to remove those rows where it is the case:"
   ]
  },
  {
   "cell_type": "code",
   "execution_count": 18,
   "id": "28134b26",
   "metadata": {},
   "outputs": [
    {
     "data": {
      "text/plain": [
       "(51273, 16)"
      ]
     },
     "execution_count": 18,
     "metadata": {},
     "output_type": "execute_result"
    }
   ],
   "source": [
    "football_data = football_data.dropna(subset = ['Home_Score', 'Away_Score','Home_Points','Away_Points'])\n",
    "football_data.shape"
   ]
  },
  {
   "cell_type": "markdown",
   "id": "ee68f873",
   "metadata": {},
   "source": [
    "Next step we ensure there are no unpleasant surprises in the other columns:"
   ]
  },
  {
   "cell_type": "code",
   "execution_count": 19,
   "id": "4661bbbc",
   "metadata": {},
   "outputs": [
    {
     "data": {
      "text/plain": [
       "'football_data[Round] - 0'"
      ]
     },
     "metadata": {},
     "output_type": "display_data"
    },
    {
     "data": {
      "text/plain": [
       "'football_data[Date] - 0'"
      ]
     },
     "metadata": {},
     "output_type": "display_data"
    },
    {
     "data": {
      "text/plain": [
       "'football_data[Time] - 0'"
      ]
     },
     "metadata": {},
     "output_type": "display_data"
    },
    {
     "data": {
      "text/plain": [
       "'football_data[Home_Team] - 0'"
      ]
     },
     "metadata": {},
     "output_type": "display_data"
    },
    {
     "data": {
      "text/plain": [
       "'football_data[Home_Score] - 0'"
      ]
     },
     "metadata": {},
     "output_type": "display_data"
    },
    {
     "data": {
      "text/plain": [
       "'football_data[Away_Score] - 0'"
      ]
     },
     "metadata": {},
     "output_type": "display_data"
    },
    {
     "data": {
      "text/plain": [
       "'football_data[Away_Team] - 0'"
      ]
     },
     "metadata": {},
     "output_type": "display_data"
    },
    {
     "data": {
      "text/plain": [
       "'football_data[Home_Score_AET] - 49804'"
      ]
     },
     "metadata": {},
     "output_type": "display_data"
    },
    {
     "data": {
      "text/plain": [
       "'football_data[Away_Score_AET] - 49804'"
      ]
     },
     "metadata": {},
     "output_type": "display_data"
    },
    {
     "data": {
      "text/plain": [
       "'football_data[Home_Penalties] - 50464'"
      ]
     },
     "metadata": {},
     "output_type": "display_data"
    },
    {
     "data": {
      "text/plain": [
       "'football_data[Away_Penalties] - 50464'"
      ]
     },
     "metadata": {},
     "output_type": "display_data"
    },
    {
     "data": {
      "text/plain": [
       "'football_data[Home_Points] - 0'"
      ]
     },
     "metadata": {},
     "output_type": "display_data"
    },
    {
     "data": {
      "text/plain": [
       "'football_data[Away_Points] - 0'"
      ]
     },
     "metadata": {},
     "output_type": "display_data"
    },
    {
     "data": {
      "text/plain": [
       "'football_data[season] - 0'"
      ]
     },
     "metadata": {},
     "output_type": "display_data"
    },
    {
     "data": {
      "text/plain": [
       "'football_data[Country] - 0'"
      ]
     },
     "metadata": {},
     "output_type": "display_data"
    },
    {
     "data": {
      "text/plain": [
       "'football_data[Competition] - 0'"
      ]
     },
     "metadata": {},
     "output_type": "display_data"
    }
   ],
   "source": [
    "for x in football_data.columns:\n",
    "    display('football_data['+x+']' + ' - '+str(football_data[x].isna().sum()))"
   ]
  },
  {
   "cell_type": "markdown",
   "id": "c606118f",
   "metadata": {},
   "source": [
    "Everything is good, no unexpected information was revealed. The amount of NaN values in the 'Home_Score_AET' and 'Away_Score_AET' columns is so big, because extra times are played in football matches quite rarely(actually never in league competitions). So it is not a mistake but it is rather the exception when those values are not blank. The similar situation with penalty attributes."
   ]
  },
  {
   "cell_type": "markdown",
   "id": "15334eb8",
   "metadata": {},
   "source": [
    "With intent to make the data more detailed and insightful, I decided to add details to the 'Competition' attribute, namely to the matches of fa-cups(football association cups) by specifying the country in its name in the column:"
   ]
  },
  {
   "cell_type": "code",
   "execution_count": 20,
   "id": "a11b867d",
   "metadata": {},
   "outputs": [],
   "source": [
    "country_list = football_data['Country'].unique()\n",
    "for index, row in football_data.iterrows():\n",
    "    comp_name = row['Competition']\n",
    "    country_name = row['Country']\n",
    "    if comp_name == 'fa-cup':\n",
    "        comp_name = country_name+'_cup'\n",
    "    football_data.at[index, 'Competition'] = comp_name"
   ]
  },
  {
   "cell_type": "markdown",
   "id": "e20f95ad",
   "metadata": {},
   "source": [
    "As the final step of this stage we count the amount of matches per competition and country represented in the data, so we are sure the answers will be fair, not biased:"
   ]
  },
  {
   "cell_type": "code",
   "execution_count": 21,
   "id": "a427c619",
   "metadata": {},
   "outputs": [
    {
     "data": {
      "text/plain": [
       "premier-league           7699\n",
       "primera-division         7680\n",
       "ligue-1                  7600\n",
       "serie-a                  7542\n",
       "bundesliga               6201\n",
       "england_cup              3005\n",
       "uefa-europa-league       2590\n",
       "uefa-champions-league    2526\n",
       "france_cup               2178\n",
       "spain_cup                1783\n",
       "germany_cup              1243\n",
       "italy_cup                1226\n",
       "Name: Competition, dtype: int64"
      ]
     },
     "metadata": {},
     "output_type": "display_data"
    },
    {
     "data": {
      "text/plain": [
       "england        10704\n",
       "france          9778\n",
       "spain           9463\n",
       "italy           8768\n",
       "germany         7444\n",
       "europe-uefa     5116\n",
       "Name: Country, dtype: int64"
      ]
     },
     "execution_count": 21,
     "metadata": {},
     "output_type": "execute_result"
    }
   ],
   "source": [
    "display(football_data['Competition'].value_counts())\n",
    "football_data['Country'].value_counts()"
   ]
  },
  {
   "cell_type": "markdown",
   "id": "983aed3f",
   "metadata": {},
   "source": [
    "In general, there is no huge skew in any obseravation, but we must pay attention to the fact that there are considerably less matches from Germany and Eurocups(which indeed is OK due to their regulatiry) but not to make massive difference"
   ]
  },
  {
   "cell_type": "markdown",
   "id": "2719db57",
   "metadata": {},
   "source": [
    "Perfect, now when only the valid observations are left in the table, the validation and cleaning processes are over. From that moment we can procced to exploratory data analysis:"
   ]
  },
  {
   "cell_type": "markdown",
   "id": "c39a7df9",
   "metadata": {},
   "source": [
    "So, what we are going to begin with is adding some useful columns to derives some important attributes regarding wishes above"
   ]
  },
  {
   "cell_type": "markdown",
   "id": "ede8b27f",
   "metadata": {},
   "source": [
    "Firstly, define the column which indicates whether letter 'u' is contained in the home and away team's name:"
   ]
  },
  {
   "cell_type": "code",
   "execution_count": 22,
   "id": "0bcbc72f",
   "metadata": {},
   "outputs": [],
   "source": [
    "football_data['Home_U'] = football_data['Home_Team'].apply(lambda x: 1 if 'u' in x.lower() else 0)\n",
    "football_data['Away_U'] = football_data['Away_Team'].apply(lambda x: 1 if 'u' in x.lower() else 0)"
   ]
  },
  {
   "cell_type": "markdown",
   "id": "173cda51",
   "metadata": {},
   "source": [
    "--------------------------------------------------------------------------------------------------------------------------------"
   ]
  },
  {
   "cell_type": "markdown",
   "id": "47a06c92",
   "metadata": {},
   "source": [
    "\n",
    "Then, based on the newly appended columns' values, we determine either one of the teams names('home', 'away') include letter 'U' or none or both of them do:"
   ]
  },
  {
   "cell_type": "code",
   "execution_count": 23,
   "id": "ace56e3e",
   "metadata": {},
   "outputs": [],
   "source": [
    "where_U_list = []\n",
    "for index, row in football_data.iterrows():\n",
    "    if row['Home_U'] == 1 and row['Away_U'] == 1:\n",
    "        where_U_list.append('both')\n",
    "    elif row['Home_U'] == 1 and row['Away_U'] == 0:\n",
    "        where_U_list.append('home')\n",
    "    elif row['Home_U'] == 0 and row['Away_U'] == 1:\n",
    "        where_U_list.append('away')\n",
    "    else:\n",
    "        where_U_list.append('none')\n",
    "football_data.insert(football_data.shape[1], 'where_U', where_U_list)"
   ]
  },
  {
   "cell_type": "markdown",
   "id": "7e0a111f",
   "metadata": {},
   "source": [
    "Still preparing data for querying regarding first condition we must determine the result of the match('home_win', 'draw', 'away_win'). For that we calculate the goal_difference in every observation:"
   ]
  },
  {
   "cell_type": "code",
   "execution_count": 24,
   "id": "9aaf77bd",
   "metadata": {},
   "outputs": [],
   "source": [
    "football_data['goals_difference'] = football_data['Home_Score'] - football_data['Away_Score']\n",
    "football_data['goals_difference_AET'] = football_data['Home_Score_AET'] - football_data['Away_Score_AET']"
   ]
  },
  {
   "cell_type": "markdown",
   "id": "4525d327",
   "metadata": {},
   "source": [
    "Subsequently, derive match result:\n"
   ]
  },
  {
   "cell_type": "code",
   "execution_count": 25,
   "id": "191107c0",
   "metadata": {},
   "outputs": [],
   "source": [
    "result_list = []\n",
    "for index, row in football_data.iterrows():\n",
    "    if row['goals_difference'] > 0:\n",
    "        result_list.append('home_win')\n",
    "    elif row['goals_difference'] < 0:\n",
    "        result_list.append('away_win')\n",
    "    else:\n",
    "        result_list.append('draw')\n",
    "football_data.insert(football_data.shape[1], 'result', result_list)        "
   ]
  },
  {
   "cell_type": "code",
   "execution_count": 26,
   "id": "6a58c356",
   "metadata": {},
   "outputs": [],
   "source": [
    "#Due to the plenty of NaN values in this column I wrapped the function body with if-pd.isna-condition \n",
    "result_list_AET = []\n",
    "for index, row in football_data.iterrows():\n",
    "    if pd.isna(row['goals_difference_AET']) == False:\n",
    "       if row['goals_difference_AET'] > 0:\n",
    "          result_list_AET.append('home_win')\n",
    "       elif row['goals_difference_AET'] == 0:\n",
    "          result_list_AET.append('draw')\n",
    "       elif row['goals_difference_AET'] < 0:\n",
    "          result_list_AET.append('away_win')\n",
    "    else:\n",
    "        result_list_AET.append(None)\n",
    "        \n",
    "football_data.insert(football_data.shape[1], 'result_AET', result_list_AET) "
   ]
  },
  {
   "cell_type": "markdown",
   "id": "1abb60bf",
   "metadata": {},
   "source": [
    "We proceed straightly to the third condition. Considering the fact these matches have already been played, their start time(the second condition) and the year season(the fourth one) are irrelevant. So minimum amount of 2 goals was scored is the next subject to work with. "
   ]
  },
  {
   "cell_type": "markdown",
   "id": "a9c044a3",
   "metadata": {},
   "source": [
    "For calculating this property we need to extract the number of all goals scored, two teams combined(cup matches with extra times are included as well):"
   ]
  },
  {
   "cell_type": "code",
   "execution_count": 27,
   "id": "8a89cae9",
   "metadata": {},
   "outputs": [],
   "source": [
    "football_data['total_goals'] = football_data['Home_Score']+football_data['Away_Score']\n",
    "football_data['total_goals_AET'] = football_data['Home_Score_AET']+football_data['Away_Score_AET']"
   ]
  },
  {
   "cell_type": "markdown",
   "id": "1b202624",
   "metadata": {},
   "source": [
    "Great, finally when some preparation work is done, we advance to the most captivating part - searching the most attractive match, regarding dad's requests. For that we sieve our matches, based on 'u' condition:"
   ]
  },
  {
   "cell_type": "code",
   "execution_count": 28,
   "id": "75b9aade",
   "metadata": {},
   "outputs": [],
   "source": [
    "only_U = football_data.loc[(football_data['where_U'] == 'away') | (football_data['where_U'] == 'home')]"
   ]
  },
  {
   "cell_type": "code",
   "execution_count": 29,
   "id": "cfd47ef9",
   "metadata": {},
   "outputs": [],
   "source": [
    "only_U_home_w = only_U[(only_U['where_U'] == 'home') & (only_U['result']=='home_win')]\n",
    "only_U_away_w = only_U[(only_U['where_U'] == 'away') & (only_U['result']=='away_win')]\n",
    "only_U_winners = pd.concat([only_U_home_w, only_U_away_w])"
   ]
  },
  {
   "cell_type": "markdown",
   "id": "93010bae",
   "metadata": {},
   "source": [
    "Now extract the matches, where at least 2 goals were scored:"
   ]
  },
  {
   "cell_type": "code",
   "execution_count": 30,
   "id": "8e7fea44",
   "metadata": {},
   "outputs": [
    {
     "data": {
      "text/plain": [
       "(4854, 25)"
      ]
     },
     "execution_count": 30,
     "metadata": {},
     "output_type": "execute_result"
    }
   ],
   "source": [
    "only_U_winners_2_goals = only_U_winners[(only_U_winners['total_goals'] >=2) | (only_U_winners['total_goals_AET'] >=2)]\n",
    "only_U_winners_2_goals.shape\n"
   ]
  },
  {
   "cell_type": "markdown",
   "id": "5d196c9b",
   "metadata": {},
   "source": [
    "As we can see there is a plenty of matches to choose from, but we want my dad to have as much fun while watching the game as possible, so we will pinpoint the matches with the most amount of goals scored in every competition represented in the dataset: "
   ]
  },
  {
   "cell_type": "code",
   "execution_count": 31,
   "id": "7e67b625",
   "metadata": {},
   "outputs": [
    {
     "data": {
      "text/html": [
       "<div>\n",
       "<style scoped>\n",
       "    .dataframe tbody tr th:only-of-type {\n",
       "        vertical-align: middle;\n",
       "    }\n",
       "\n",
       "    .dataframe tbody tr th {\n",
       "        vertical-align: top;\n",
       "    }\n",
       "\n",
       "    .dataframe thead th {\n",
       "        text-align: right;\n",
       "    }\n",
       "</style>\n",
       "<table border=\"1\" class=\"dataframe\">\n",
       "  <thead>\n",
       "    <tr style=\"text-align: right;\">\n",
       "      <th></th>\n",
       "      <th>Round</th>\n",
       "      <th>Date</th>\n",
       "      <th>Time</th>\n",
       "      <th>Home_Team</th>\n",
       "      <th>Home_Score</th>\n",
       "      <th>Away_Score</th>\n",
       "      <th>Away_Team</th>\n",
       "      <th>Competition</th>\n",
       "    </tr>\n",
       "  </thead>\n",
       "  <tbody>\n",
       "    <tr>\n",
       "      <th>2537</th>\n",
       "      <td>ROUND 26</td>\n",
       "      <td>08/03/2009</td>\n",
       "      <td>18:00</td>\n",
       "      <td>DEPORTIVO LA CORUNA</td>\n",
       "      <td>5.0</td>\n",
       "      <td>3.0</td>\n",
       "      <td>RACING SANTANDER</td>\n",
       "      <td>primera-division</td>\n",
       "    </tr>\n",
       "  </tbody>\n",
       "</table>\n",
       "</div>"
      ],
      "text/plain": [
       "         Round        Date   Time            Home_Team  Home_Score  \\\n",
       "2537  ROUND 26  08/03/2009  18:00  DEPORTIVO LA CORUNA         5.0   \n",
       "\n",
       "      Away_Score         Away_Team       Competition  \n",
       "2537         3.0  RACING SANTANDER  primera-division  "
      ]
     },
     "metadata": {},
     "output_type": "display_data"
    },
    {
     "data": {
      "text/html": [
       "<div>\n",
       "<style scoped>\n",
       "    .dataframe tbody tr th:only-of-type {\n",
       "        vertical-align: middle;\n",
       "    }\n",
       "\n",
       "    .dataframe tbody tr th {\n",
       "        vertical-align: top;\n",
       "    }\n",
       "\n",
       "    .dataframe thead th {\n",
       "        text-align: right;\n",
       "    }\n",
       "</style>\n",
       "<table border=\"1\" class=\"dataframe\">\n",
       "  <thead>\n",
       "    <tr style=\"text-align: right;\">\n",
       "      <th></th>\n",
       "      <th>Round</th>\n",
       "      <th>Date</th>\n",
       "      <th>Time</th>\n",
       "      <th>Home_Team</th>\n",
       "      <th>Home_Score</th>\n",
       "      <th>Away_Score</th>\n",
       "      <th>Away_Team</th>\n",
       "      <th>Competition</th>\n",
       "    </tr>\n",
       "  </thead>\n",
       "  <tbody>\n",
       "    <tr>\n",
       "      <th>9650</th>\n",
       "      <td>ROUND 8</td>\n",
       "      <td>29/09/2007</td>\n",
       "      <td>17:00</td>\n",
       "      <td>PORTSMOUTH</td>\n",
       "      <td>7.0</td>\n",
       "      <td>4.0</td>\n",
       "      <td>READING</td>\n",
       "      <td>premier-league</td>\n",
       "    </tr>\n",
       "  </tbody>\n",
       "</table>\n",
       "</div>"
      ],
      "text/plain": [
       "        Round        Date   Time   Home_Team  Home_Score  Away_Score  \\\n",
       "9650  ROUND 8  29/09/2007  17:00  PORTSMOUTH         7.0         4.0   \n",
       "\n",
       "     Away_Team     Competition  \n",
       "9650   READING  premier-league  "
      ]
     },
     "metadata": {},
     "output_type": "display_data"
    },
    {
     "data": {
      "text/html": [
       "<div>\n",
       "<style scoped>\n",
       "    .dataframe tbody tr th:only-of-type {\n",
       "        vertical-align: middle;\n",
       "    }\n",
       "\n",
       "    .dataframe tbody tr th {\n",
       "        vertical-align: top;\n",
       "    }\n",
       "\n",
       "    .dataframe thead th {\n",
       "        text-align: right;\n",
       "    }\n",
       "</style>\n",
       "<table border=\"1\" class=\"dataframe\">\n",
       "  <thead>\n",
       "    <tr style=\"text-align: right;\">\n",
       "      <th></th>\n",
       "      <th>Round</th>\n",
       "      <th>Date</th>\n",
       "      <th>Time</th>\n",
       "      <th>Home_Team</th>\n",
       "      <th>Home_Score</th>\n",
       "      <th>Away_Score</th>\n",
       "      <th>Away_Team</th>\n",
       "      <th>Competition</th>\n",
       "    </tr>\n",
       "  </thead>\n",
       "  <tbody>\n",
       "    <tr>\n",
       "      <th>16396</th>\n",
       "      <td>ROUND 10</td>\n",
       "      <td>22/10/2005</td>\n",
       "      <td>16:30</td>\n",
       "      <td>EINTRACHT FRANKFURT</td>\n",
       "      <td>6.0</td>\n",
       "      <td>3.0</td>\n",
       "      <td>FC KOLN</td>\n",
       "      <td>bundesliga</td>\n",
       "    </tr>\n",
       "    <tr>\n",
       "      <th>17125</th>\n",
       "      <td>ROUND 23</td>\n",
       "      <td>08/03/2008</td>\n",
       "      <td>16:30</td>\n",
       "      <td>VfB STUTTGART</td>\n",
       "      <td>6.0</td>\n",
       "      <td>3.0</td>\n",
       "      <td>WERDER BREMEN</td>\n",
       "      <td>bundesliga</td>\n",
       "    </tr>\n",
       "    <tr>\n",
       "      <th>15677</th>\n",
       "      <td>ROUND 32</td>\n",
       "      <td>10/05/2003</td>\n",
       "      <td>17:30</td>\n",
       "      <td>HERTHA BERLIN</td>\n",
       "      <td>3.0</td>\n",
       "      <td>6.0</td>\n",
       "      <td>BAYERN MUNICH</td>\n",
       "      <td>bundesliga</td>\n",
       "    </tr>\n",
       "    <tr>\n",
       "      <th>19967</th>\n",
       "      <td>ROUND 33</td>\n",
       "      <td>13/05/2017</td>\n",
       "      <td>16:30</td>\n",
       "      <td>RB LEIPZIG</td>\n",
       "      <td>4.0</td>\n",
       "      <td>5.0</td>\n",
       "      <td>BAYERN MUNICH</td>\n",
       "      <td>bundesliga</td>\n",
       "    </tr>\n",
       "  </tbody>\n",
       "</table>\n",
       "</div>"
      ],
      "text/plain": [
       "          Round        Date   Time            Home_Team  Home_Score  \\\n",
       "16396  ROUND 10  22/10/2005  16:30  EINTRACHT FRANKFURT         6.0   \n",
       "17125  ROUND 23  08/03/2008  16:30        VfB STUTTGART         6.0   \n",
       "15677  ROUND 32  10/05/2003  17:30        HERTHA BERLIN         3.0   \n",
       "19967  ROUND 33  13/05/2017  16:30           RB LEIPZIG         4.0   \n",
       "\n",
       "       Away_Score      Away_Team Competition  \n",
       "16396         3.0        FC KOLN  bundesliga  \n",
       "17125         3.0  WERDER BREMEN  bundesliga  \n",
       "15677         6.0  BAYERN MUNICH  bundesliga  \n",
       "19967         5.0  BAYERN MUNICH  bundesliga  "
      ]
     },
     "metadata": {},
     "output_type": "display_data"
    },
    {
     "data": {
      "text/html": [
       "<div>\n",
       "<style scoped>\n",
       "    .dataframe tbody tr th:only-of-type {\n",
       "        vertical-align: middle;\n",
       "    }\n",
       "\n",
       "    .dataframe tbody tr th {\n",
       "        vertical-align: top;\n",
       "    }\n",
       "\n",
       "    .dataframe thead th {\n",
       "        text-align: right;\n",
       "    }\n",
       "</style>\n",
       "<table border=\"1\" class=\"dataframe\">\n",
       "  <thead>\n",
       "    <tr style=\"text-align: right;\">\n",
       "      <th></th>\n",
       "      <th>Round</th>\n",
       "      <th>Date</th>\n",
       "      <th>Time</th>\n",
       "      <th>Home_Team</th>\n",
       "      <th>Home_Score</th>\n",
       "      <th>Away_Score</th>\n",
       "      <th>Away_Team</th>\n",
       "      <th>Competition</th>\n",
       "    </tr>\n",
       "  </thead>\n",
       "  <tbody>\n",
       "    <tr>\n",
       "      <th>25237</th>\n",
       "      <td>ROUND 23</td>\n",
       "      <td>12/02/2012</td>\n",
       "      <td>16:00</td>\n",
       "      <td>LILLE</td>\n",
       "      <td>4.0</td>\n",
       "      <td>5.0</td>\n",
       "      <td>BORDEAUX</td>\n",
       "      <td>ligue-1</td>\n",
       "    </tr>\n",
       "  </tbody>\n",
       "</table>\n",
       "</div>"
      ],
      "text/plain": [
       "          Round        Date   Time Home_Team  Home_Score  Away_Score  \\\n",
       "25237  ROUND 23  12/02/2012  16:00     LILLE         4.0         5.0   \n",
       "\n",
       "      Away_Team Competition  \n",
       "25237  BORDEAUX     ligue-1  "
      ]
     },
     "metadata": {},
     "output_type": "display_data"
    },
    {
     "data": {
      "text/html": [
       "<div>\n",
       "<style scoped>\n",
       "    .dataframe tbody tr th:only-of-type {\n",
       "        vertical-align: middle;\n",
       "    }\n",
       "\n",
       "    .dataframe tbody tr th {\n",
       "        vertical-align: top;\n",
       "    }\n",
       "\n",
       "    .dataframe thead th {\n",
       "        text-align: right;\n",
       "    }\n",
       "</style>\n",
       "<table border=\"1\" class=\"dataframe\">\n",
       "  <thead>\n",
       "    <tr style=\"text-align: right;\">\n",
       "      <th></th>\n",
       "      <th>Round</th>\n",
       "      <th>Date</th>\n",
       "      <th>Time</th>\n",
       "      <th>Home_Team</th>\n",
       "      <th>Home_Score</th>\n",
       "      <th>Away_Score</th>\n",
       "      <th>Away_Team</th>\n",
       "      <th>Competition</th>\n",
       "    </tr>\n",
       "  </thead>\n",
       "  <tbody>\n",
       "    <tr>\n",
       "      <th>30248</th>\n",
       "      <td>ROUND 35</td>\n",
       "      <td>08/05/2005</td>\n",
       "      <td>16:00</td>\n",
       "      <td>LIVORNO</td>\n",
       "      <td>3.0</td>\n",
       "      <td>6.0</td>\n",
       "      <td>ROBUR SIENA</td>\n",
       "      <td>serie-a</td>\n",
       "    </tr>\n",
       "  </tbody>\n",
       "</table>\n",
       "</div>"
      ],
      "text/plain": [
       "          Round        Date   Time Home_Team  Home_Score  Away_Score  \\\n",
       "30248  ROUND 35  08/05/2005  16:00   LIVORNO         3.0         6.0   \n",
       "\n",
       "         Away_Team Competition  \n",
       "30248  ROBUR SIENA     serie-a  "
      ]
     },
     "metadata": {},
     "output_type": "display_data"
    },
    {
     "data": {
      "text/html": [
       "<div>\n",
       "<style scoped>\n",
       "    .dataframe tbody tr th:only-of-type {\n",
       "        vertical-align: middle;\n",
       "    }\n",
       "\n",
       "    .dataframe tbody tr th {\n",
       "        vertical-align: top;\n",
       "    }\n",
       "\n",
       "    .dataframe thead th {\n",
       "        text-align: right;\n",
       "    }\n",
       "</style>\n",
       "<table border=\"1\" class=\"dataframe\">\n",
       "  <thead>\n",
       "    <tr style=\"text-align: right;\">\n",
       "      <th></th>\n",
       "      <th>Round</th>\n",
       "      <th>Date</th>\n",
       "      <th>Time</th>\n",
       "      <th>Home_Team</th>\n",
       "      <th>Home_Score</th>\n",
       "      <th>Away_Score</th>\n",
       "      <th>Away_Team</th>\n",
       "      <th>Competition</th>\n",
       "    </tr>\n",
       "  </thead>\n",
       "  <tbody>\n",
       "    <tr>\n",
       "      <th>38688</th>\n",
       "      <td>group-stage</td>\n",
       "      <td>22/11/2016</td>\n",
       "      <td>21:45</td>\n",
       "      <td>BORUSSIA DORTMUND</td>\n",
       "      <td>8.0</td>\n",
       "      <td>4.0</td>\n",
       "      <td>LEGIA WARSZAWA</td>\n",
       "      <td>uefa-champions-league</td>\n",
       "    </tr>\n",
       "  </tbody>\n",
       "</table>\n",
       "</div>"
      ],
      "text/plain": [
       "             Round        Date   Time          Home_Team  Home_Score  \\\n",
       "38688  group-stage  22/11/2016  21:45  BORUSSIA DORTMUND         8.0   \n",
       "\n",
       "       Away_Score       Away_Team            Competition  \n",
       "38688         4.0  LEGIA WARSZAWA  uefa-champions-league  "
      ]
     },
     "metadata": {},
     "output_type": "display_data"
    },
    {
     "data": {
      "text/html": [
       "<div>\n",
       "<style scoped>\n",
       "    .dataframe tbody tr th:only-of-type {\n",
       "        vertical-align: middle;\n",
       "    }\n",
       "\n",
       "    .dataframe tbody tr th {\n",
       "        vertical-align: top;\n",
       "    }\n",
       "\n",
       "    .dataframe thead th {\n",
       "        text-align: right;\n",
       "    }\n",
       "</style>\n",
       "<table border=\"1\" class=\"dataframe\">\n",
       "  <thead>\n",
       "    <tr style=\"text-align: right;\">\n",
       "      <th></th>\n",
       "      <th>Round</th>\n",
       "      <th>Date</th>\n",
       "      <th>Time</th>\n",
       "      <th>Home_Team</th>\n",
       "      <th>Home_Score</th>\n",
       "      <th>Away_Score</th>\n",
       "      <th>Away_Team</th>\n",
       "      <th>Competition</th>\n",
       "    </tr>\n",
       "  </thead>\n",
       "  <tbody>\n",
       "    <tr>\n",
       "      <th>41620</th>\n",
       "      <td>group-stage</td>\n",
       "      <td>22/10/2020</td>\n",
       "      <td>19:55</td>\n",
       "      <td>BAYER LEVERKUSEN</td>\n",
       "      <td>6.0</td>\n",
       "      <td>2.0</td>\n",
       "      <td>NICE</td>\n",
       "      <td>uefa-europa-league</td>\n",
       "    </tr>\n",
       "    <tr>\n",
       "      <th>41812</th>\n",
       "      <td>semi-finals</td>\n",
       "      <td>29/04/2021</td>\n",
       "      <td>22:00</td>\n",
       "      <td>MANCHESTER UTD</td>\n",
       "      <td>6.0</td>\n",
       "      <td>2.0</td>\n",
       "      <td>ROMA</td>\n",
       "      <td>uefa-europa-league</td>\n",
       "    </tr>\n",
       "  </tbody>\n",
       "</table>\n",
       "</div>"
      ],
      "text/plain": [
       "             Round        Date   Time         Home_Team  Home_Score  \\\n",
       "41620  group-stage  22/10/2020  19:55  BAYER LEVERKUSEN         6.0   \n",
       "41812  semi-finals  29/04/2021  22:00    MANCHESTER UTD         6.0   \n",
       "\n",
       "       Away_Score Away_Team         Competition  \n",
       "41620         2.0      NICE  uefa-europa-league  \n",
       "41812         2.0      ROMA  uefa-europa-league  "
      ]
     },
     "metadata": {},
     "output_type": "display_data"
    },
    {
     "data": {
      "text/html": [
       "<div>\n",
       "<style scoped>\n",
       "    .dataframe tbody tr th:only-of-type {\n",
       "        vertical-align: middle;\n",
       "    }\n",
       "\n",
       "    .dataframe tbody tr th {\n",
       "        vertical-align: top;\n",
       "    }\n",
       "\n",
       "    .dataframe thead th {\n",
       "        text-align: right;\n",
       "    }\n",
       "</style>\n",
       "<table border=\"1\" class=\"dataframe\">\n",
       "  <thead>\n",
       "    <tr style=\"text-align: right;\">\n",
       "      <th></th>\n",
       "      <th>Round</th>\n",
       "      <th>Date</th>\n",
       "      <th>Time</th>\n",
       "      <th>Home_Team</th>\n",
       "      <th>Home_Score</th>\n",
       "      <th>Away_Score</th>\n",
       "      <th>Away_Team</th>\n",
       "      <th>Competition</th>\n",
       "    </tr>\n",
       "  </thead>\n",
       "  <tbody>\n",
       "    <tr>\n",
       "      <th>43565</th>\n",
       "      <td>second-round</td>\n",
       "      <td>05/01/2021</td>\n",
       "      <td>18:00</td>\n",
       "      <td>UD IBIZA</td>\n",
       "      <td>5.0</td>\n",
       "      <td>2.0</td>\n",
       "      <td>CELTA VIGO</td>\n",
       "      <td>spain_cup</td>\n",
       "    </tr>\n",
       "    <tr>\n",
       "      <th>41960</th>\n",
       "      <td>round-32</td>\n",
       "      <td>05/11/2002</td>\n",
       "      <td>22:30</td>\n",
       "      <td>RACING DE FERROL</td>\n",
       "      <td>3.0</td>\n",
       "      <td>4.0</td>\n",
       "      <td>DEPORTIVO LA CORUNA</td>\n",
       "      <td>spain_cup</td>\n",
       "    </tr>\n",
       "    <tr>\n",
       "      <th>42274</th>\n",
       "      <td>second-round</td>\n",
       "      <td>05/09/2007</td>\n",
       "      <td>22:00</td>\n",
       "      <td>SAN ISIDRO</td>\n",
       "      <td>2.0</td>\n",
       "      <td>5.0</td>\n",
       "      <td>PORTUENSE</td>\n",
       "      <td>spain_cup</td>\n",
       "    </tr>\n",
       "  </tbody>\n",
       "</table>\n",
       "</div>"
      ],
      "text/plain": [
       "              Round        Date   Time         Home_Team  Home_Score  \\\n",
       "43565  second-round  05/01/2021  18:00          UD IBIZA         5.0   \n",
       "41960      round-32  05/11/2002  22:30  RACING DE FERROL         3.0   \n",
       "42274  second-round  05/09/2007  22:00        SAN ISIDRO         2.0   \n",
       "\n",
       "       Away_Score            Away_Team Competition  \n",
       "43565         2.0           CELTA VIGO   spain_cup  \n",
       "41960         4.0  DEPORTIVO LA CORUNA   spain_cup  \n",
       "42274         5.0            PORTUENSE   spain_cup  "
      ]
     },
     "metadata": {},
     "output_type": "display_data"
    },
    {
     "data": {
      "text/html": [
       "<div>\n",
       "<style scoped>\n",
       "    .dataframe tbody tr th:only-of-type {\n",
       "        vertical-align: middle;\n",
       "    }\n",
       "\n",
       "    .dataframe tbody tr th {\n",
       "        vertical-align: top;\n",
       "    }\n",
       "\n",
       "    .dataframe thead th {\n",
       "        text-align: right;\n",
       "    }\n",
       "</style>\n",
       "<table border=\"1\" class=\"dataframe\">\n",
       "  <thead>\n",
       "    <tr style=\"text-align: right;\">\n",
       "      <th></th>\n",
       "      <th>Round</th>\n",
       "      <th>Date</th>\n",
       "      <th>Time</th>\n",
       "      <th>Home_Team</th>\n",
       "      <th>Home_Score</th>\n",
       "      <th>Away_Score</th>\n",
       "      <th>Away_Team</th>\n",
       "      <th>Competition</th>\n",
       "    </tr>\n",
       "  </thead>\n",
       "  <tbody>\n",
       "    <tr>\n",
       "      <th>43929</th>\n",
       "      <td>first-round</td>\n",
       "      <td>09/11/2003</td>\n",
       "      <td>17:00</td>\n",
       "      <td>NOTTS COUNTY</td>\n",
       "      <td>7.0</td>\n",
       "      <td>2.0</td>\n",
       "      <td>SHILDON</td>\n",
       "      <td>england_cup</td>\n",
       "    </tr>\n",
       "    <tr>\n",
       "      <th>45908</th>\n",
       "      <td>first-round</td>\n",
       "      <td>05/11/2016</td>\n",
       "      <td>17:00</td>\n",
       "      <td>DARTFORD</td>\n",
       "      <td>3.0</td>\n",
       "      <td>6.0</td>\n",
       "      <td>SUTTON UTD</td>\n",
       "      <td>england_cup</td>\n",
       "    </tr>\n",
       "  </tbody>\n",
       "</table>\n",
       "</div>"
      ],
      "text/plain": [
       "             Round        Date   Time     Home_Team  Home_Score  Away_Score  \\\n",
       "43929  first-round  09/11/2003  17:00  NOTTS COUNTY         7.0         2.0   \n",
       "45908  first-round  05/11/2016  17:00      DARTFORD         3.0         6.0   \n",
       "\n",
       "        Away_Team  Competition  \n",
       "43929     SHILDON  england_cup  \n",
       "45908  SUTTON UTD  england_cup  "
      ]
     },
     "metadata": {},
     "output_type": "display_data"
    },
    {
     "data": {
      "text/html": [
       "<div>\n",
       "<style scoped>\n",
       "    .dataframe tbody tr th:only-of-type {\n",
       "        vertical-align: middle;\n",
       "    }\n",
       "\n",
       "    .dataframe tbody tr th {\n",
       "        vertical-align: top;\n",
       "    }\n",
       "\n",
       "    .dataframe thead th {\n",
       "        text-align: right;\n",
       "    }\n",
       "</style>\n",
       "<table border=\"1\" class=\"dataframe\">\n",
       "  <thead>\n",
       "    <tr style=\"text-align: right;\">\n",
       "      <th></th>\n",
       "      <th>Round</th>\n",
       "      <th>Date</th>\n",
       "      <th>Time</th>\n",
       "      <th>Home_Team</th>\n",
       "      <th>Home_Score</th>\n",
       "      <th>Away_Score</th>\n",
       "      <th>Away_Team</th>\n",
       "      <th>Competition</th>\n",
       "    </tr>\n",
       "  </thead>\n",
       "  <tbody>\n",
       "    <tr>\n",
       "      <th>46890</th>\n",
       "      <td>first-round</td>\n",
       "      <td>21/08/2004</td>\n",
       "      <td>16:00</td>\n",
       "      <td>FC SCHONBERG 95</td>\n",
       "      <td>0.0</td>\n",
       "      <td>15.0</td>\n",
       "      <td>FC KAISERSLAUTERN</td>\n",
       "      <td>germany_cup</td>\n",
       "    </tr>\n",
       "  </tbody>\n",
       "</table>\n",
       "</div>"
      ],
      "text/plain": [
       "             Round        Date   Time        Home_Team  Home_Score  \\\n",
       "46890  first-round  21/08/2004  16:00  FC SCHONBERG 95         0.0   \n",
       "\n",
       "       Away_Score          Away_Team  Competition  \n",
       "46890        15.0  FC KAISERSLAUTERN  germany_cup  "
      ]
     },
     "metadata": {},
     "output_type": "display_data"
    },
    {
     "data": {
      "text/html": [
       "<div>\n",
       "<style scoped>\n",
       "    .dataframe tbody tr th:only-of-type {\n",
       "        vertical-align: middle;\n",
       "    }\n",
       "\n",
       "    .dataframe tbody tr th {\n",
       "        vertical-align: top;\n",
       "    }\n",
       "\n",
       "    .dataframe thead th {\n",
       "        text-align: right;\n",
       "    }\n",
       "</style>\n",
       "<table border=\"1\" class=\"dataframe\">\n",
       "  <thead>\n",
       "    <tr style=\"text-align: right;\">\n",
       "      <th></th>\n",
       "      <th>Round</th>\n",
       "      <th>Date</th>\n",
       "      <th>Time</th>\n",
       "      <th>Home_Team</th>\n",
       "      <th>Home_Score</th>\n",
       "      <th>Away_Score</th>\n",
       "      <th>Away_Team</th>\n",
       "      <th>Competition</th>\n",
       "    </tr>\n",
       "  </thead>\n",
       "  <tbody>\n",
       "    <tr>\n",
       "      <th>50076</th>\n",
       "      <td>EIGHTH ROUND</td>\n",
       "      <td>27/11/2021</td>\n",
       "      <td>16:00</td>\n",
       "      <td>CHAMBERY</td>\n",
       "      <td>4.0</td>\n",
       "      <td>6.0</td>\n",
       "      <td>AUXERRE</td>\n",
       "      <td>france_cup</td>\n",
       "    </tr>\n",
       "  </tbody>\n",
       "</table>\n",
       "</div>"
      ],
      "text/plain": [
       "              Round        Date   Time Home_Team  Home_Score  Away_Score  \\\n",
       "50076  EIGHTH ROUND  27/11/2021  16:00  CHAMBERY         4.0         6.0   \n",
       "\n",
       "      Away_Team Competition  \n",
       "50076   AUXERRE  france_cup  "
      ]
     },
     "metadata": {},
     "output_type": "display_data"
    },
    {
     "data": {
      "text/html": [
       "<div>\n",
       "<style scoped>\n",
       "    .dataframe tbody tr th:only-of-type {\n",
       "        vertical-align: middle;\n",
       "    }\n",
       "\n",
       "    .dataframe tbody tr th {\n",
       "        vertical-align: top;\n",
       "    }\n",
       "\n",
       "    .dataframe thead th {\n",
       "        text-align: right;\n",
       "    }\n",
       "</style>\n",
       "<table border=\"1\" class=\"dataframe\">\n",
       "  <thead>\n",
       "    <tr style=\"text-align: right;\">\n",
       "      <th></th>\n",
       "      <th>Round</th>\n",
       "      <th>Date</th>\n",
       "      <th>Time</th>\n",
       "      <th>Home_Team</th>\n",
       "      <th>Home_Score</th>\n",
       "      <th>Away_Score</th>\n",
       "      <th>Away_Team</th>\n",
       "      <th>Competition</th>\n",
       "    </tr>\n",
       "  </thead>\n",
       "  <tbody>\n",
       "    <tr>\n",
       "      <th>50269</th>\n",
       "      <td>third-round</td>\n",
       "      <td>20/11/2004</td>\n",
       "      <td>16:00</td>\n",
       "      <td>LECCE</td>\n",
       "      <td>4.0</td>\n",
       "      <td>5.0</td>\n",
       "      <td>UDINESE</td>\n",
       "      <td>italy_cup</td>\n",
       "    </tr>\n",
       "  </tbody>\n",
       "</table>\n",
       "</div>"
      ],
      "text/plain": [
       "             Round        Date   Time Home_Team  Home_Score  Away_Score  \\\n",
       "50269  third-round  20/11/2004  16:00     LECCE         4.0         5.0   \n",
       "\n",
       "      Away_Team Competition  \n",
       "50269   UDINESE   italy_cup  "
      ]
     },
     "metadata": {},
     "output_type": "display_data"
    }
   ],
   "source": [
    "competition_list = list(only_U_winners_2_goals['Competition'].unique())\n",
    "for x in competition_list:\n",
    "    U_winners_per_comp = only_U_winners_2_goals[only_U_winners_2_goals['Competition'] == x]\n",
    "    most_goals = U_winners_per_comp.loc[U_winners_per_comp['total_goals'] == U_winners_per_comp['total_goals'].max()]\n",
    "    display(most_goals[['Round', 'Date', 'Time', 'Home_Team', 'Home_Score', 'Away_Score', 'Away_Team', 'Competition']])"
   ]
  },
  {
   "cell_type": "markdown",
   "id": "67428806",
   "metadata": {},
   "source": [
    "Thus, we obtain the bunch of matches, which meet father's expectations, therefore he has something to opt from"
   ]
  },
  {
   "cell_type": "markdown",
   "id": "9a5694fe",
   "metadata": {},
   "source": [
    "But we are not done yet, now we go to the second step of the plan - finding out the most suitable competition to follow in the future."
   ]
  },
  {
   "cell_type": "markdown",
   "id": "6850d65f",
   "metadata": {},
   "source": [
    "For this purpose we need to manipulate the dataset a bit and extract some useful information about represented competitions, according to wishes, such a season of matchs was played. In our case whether it was summer or not:"
   ]
  },
  {
   "cell_type": "code",
   "execution_count": 32,
   "id": "ce6d425d",
   "metadata": {},
   "outputs": [],
   "source": [
    "football_data['Date'] = pd.to_datetime(football_data['Date'], infer_datetime_format=True)"
   ]
  },
  {
   "cell_type": "code",
   "execution_count": 33,
   "id": "72c2878d",
   "metadata": {},
   "outputs": [],
   "source": [
    "months = football_data['Date'].dt.month\n",
    "months_list = months.to_list()\n",
    "summer_season = []\n",
    "for x in months_list:\n",
    "    if x == 6 or x == 7 or x == 8:\n",
    "        summer_season.append('yes')\n",
    "    else:\n",
    "        summer_season.append('no')\n",
    "football_data.insert(football_data.shape[1], 'summer', summer_season)"
   ]
  },
  {
   "cell_type": "markdown",
   "id": "7118838f",
   "metadata": {},
   "source": [
    "Now let's separate matches according to the season of the matchday:"
   ]
  },
  {
   "cell_type": "code",
   "execution_count": 34,
   "id": "9f24d479",
   "metadata": {},
   "outputs": [],
   "source": [
    "summer_foot = football_data.loc[football_data['summer'] == 'yes']"
   ]
  },
  {
   "cell_type": "markdown",
   "id": "2c70fcd4",
   "metadata": {},
   "source": [
    "Further proceeding to the next condition leave out only the games where at least 2 goals were scored:"
   ]
  },
  {
   "cell_type": "code",
   "execution_count": 35,
   "id": "3acc93ff",
   "metadata": {},
   "outputs": [],
   "source": [
    "summer_foot_min_2 = summer_foot.loc[(summer_foot['total_goals']>= 2) | (summer_foot['total_goals_AET']>= 2)]\n"
   ]
  },
  {
   "cell_type": "markdown",
   "id": "a33ba85e",
   "metadata": {},
   "source": [
    "Then we sieve the data, so only the matches started not later than 8 p.m. left over:"
   ]
  },
  {
   "cell_type": "code",
   "execution_count": 47,
   "id": "ef0f9c05",
   "metadata": {},
   "outputs": [
    {
     "data": {
      "text/plain": [
       "array(['22:30', '20:00', '21:00', '21:30', '22:00', '23:00', '23:15',\n",
       "       '22:45', '23:30', '20:30', '18:00', '19:00', '13:00', '17:00',\n",
       "       '00:00', '19:30', '21:45', '19:15', '21:15', '15:00', '18:30',\n",
       "       '19:05', '15:15', '15:30', '14:45', '16:00', '18:05', '18:10',\n",
       "       '14:00', '17:15', '14:15', '14:50', '15:35', '14:05', '14:30',\n",
       "       '22:15', '18:15', '16:15', '17:30', '20:45', '22:40', '22:35',\n",
       "       '16:30', '21:35', '16:40', '21:40', '16:35', '22:50', '19:55',\n",
       "       '19:45', '21:25', '22:10', '18:45', '22:05', '20:05'], dtype=object)"
      ]
     },
     "execution_count": 47,
     "metadata": {},
     "output_type": "execute_result"
    }
   ],
   "source": [
    "#figuring out all unique time values represented\n",
    "summer_foot['Time'].unique()"
   ]
  },
  {
   "cell_type": "code",
   "execution_count": 37,
   "id": "3f619f82",
   "metadata": {},
   "outputs": [],
   "source": [
    "#filter from opposite of required condition, because there are even more instances \n",
    "#of desirable beginning time, so the forming of the list for slicing would be more cumbersome process\n",
    "\n",
    "#slicing itself\n",
    "unneeded_starttime = ['21:00', '21:30', '23:00', '23:15', '22:00', '22:30',\n",
    "       '22:45', '23:30', '20:30','00:00','21:45','21:15','22:15','20:45','22:40','21:35','21:40','22:50','21:25', '22:35', '22:05',\n",
    "       '20:05']\n",
    "summer_foot_2_before8 = summer_foot_min_2[~summer_foot_min_2['Time'].isin(unneeded_starttime)]"
   ]
  },
  {
   "cell_type": "markdown",
   "id": "f0b446ee",
   "metadata": {},
   "source": [
    "Eventually, considering the fourth want - team with letter 'u' beat the opponent, who doesn't have it in its name, we make the final slicing:"
   ]
  },
  {
   "cell_type": "code",
   "execution_count": 38,
   "id": "f79e5e98",
   "metadata": {},
   "outputs": [],
   "source": [
    "#all matches are considered, including both with extra times and without\n",
    "desired_hm = summer_foot_2_before8[(summer_foot_2_before8['where_U'] == 'home') & (summer_foot_2_before8['result']=='home_win')]\n",
    "desired_aw = summer_foot_2_before8[(summer_foot_2_before8['where_U'] == 'away') & (summer_foot_2_before8['result']=='away_win')]\n",
    "desired_hm_AET = summer_foot_2_before8[(summer_foot_2_before8['where_U'] == 'home') & (summer_foot_2_before8['result_AET']=='home_win')]\n",
    "desired_aw_AET = summer_foot_2_before8[(summer_foot_2_before8['where_U'] == 'away') & (summer_foot_2_before8['result_AET']=='away_win')]\n",
    "desired_matches = pd.concat([desired_hm, desired_aw, desired_hm_AET, desired_aw_AET], axis = 0)"
   ]
  },
  {
   "cell_type": "markdown",
   "id": "c197870c",
   "metadata": {},
   "source": [
    "Let's find out what competition is the richest on dad's dream matches:"
   ]
  },
  {
   "cell_type": "code",
   "execution_count": 39,
   "id": "b59e56f7",
   "metadata": {},
   "outputs": [],
   "source": [
    "import matplotlib.pyplot as plt\n",
    "import seaborn as sns"
   ]
  },
  {
   "cell_type": "code",
   "execution_count": 40,
   "id": "5671ab0a",
   "metadata": {},
   "outputs": [
    {
     "data": {
      "image/png": "[encoded data removed]",
      "text/plain": [
       "<Figure size 640x480 with 1 Axes>"
      ]
     },
     "metadata": {},
     "output_type": "display_data"
    }
   ],
   "source": [
    "g = sns.countplot(x='Competition', data=desired_matches, hue = 'Country')\n",
    "plt.xticks(rotation=70)\n",
    "#fig.set_size_inches(3, 2)\n",
    "#sns.set(rc={'figure.figsize':(8,3)})\n",
    "plt.legend(fontsize = 9)\n",
    "sns.set_style('darkgrid')\n",
    "g.set_title('Amount of dream matches per competition', y=1.03)\n",
    "g.set(ylabel = 'Matches')\n",
    "plt.show()"
   ]
  },
  {
   "cell_type": "markdown",
   "id": "10ba9e74",
   "metadata": {},
   "source": [
    "-------------------------------------------------------------------------------------------------------------------------------\n",
    "As we can see, the german tournaments, especially deutsch fa-cup, seem the most attractive to watch in the future.\n",
    "The third place is grabbed by english premier-league with the amount of 53 matches, whereas Spain is the place not to visit for my dad, at least, considering football tourism. "
   ]
  },
  {
   "cell_type": "markdown",
   "id": "66e2e2d5",
   "metadata": {},
   "source": [
    "The time to answer the last question has come. "
   ]
  },
  {
   "cell_type": "markdown",
   "id": "3bc9efb3",
   "metadata": {},
   "source": [
    "What is the best team to support for my father? To find out that, the next steps will be taken:"
   ]
  },
  {
   "cell_type": "code",
   "execution_count": 41,
   "id": "cfdc8a8c",
   "metadata": {},
   "outputs": [],
   "source": [
    "#extracting all different football clubs in the dataframe\n",
    "all_teams = list(desired_matches['Home_Team'].unique()) + list(desired_matches['Away_Team'].unique())\n",
    "all_uniq_teams = list(set(all_teams))"
   ]
  },
  {
   "cell_type": "code",
   "execution_count": 42,
   "id": "1fdba86d",
   "metadata": {},
   "outputs": [],
   "source": [
    "#Calculate the amount of matches every team participated in\n",
    "FC_dict = {}\n",
    "for x in all_uniq_teams:\n",
    "    i=0\n",
    "    for index, row in desired_matches.iterrows():\n",
    "        if row['Home_Team'] == x or row['Away_Team'] == x:\n",
    "            i += 1\n",
    "    FC_dict[x] = i"
   ]
  },
  {
   "cell_type": "markdown",
   "id": "bf02ad6c",
   "metadata": {},
   "source": [
    "For better representation turn it into the dataframe format and get top 10 teams to follow in the next year:"
   ]
  },
  {
   "cell_type": "code",
   "execution_count": 43,
   "id": "c94a8190",
   "metadata": {},
   "outputs": [
    {
     "data": {
      "text/html": [
       "<div>\n",
       "<style scoped>\n",
       "    .dataframe tbody tr th:only-of-type {\n",
       "        vertical-align: middle;\n",
       "    }\n",
       "\n",
       "    .dataframe tbody tr th {\n",
       "        vertical-align: top;\n",
       "    }\n",
       "\n",
       "    .dataframe thead th {\n",
       "        text-align: right;\n",
       "    }\n",
       "</style>\n",
       "<table border=\"1\" class=\"dataframe\">\n",
       "  <thead>\n",
       "    <tr style=\"text-align: right;\">\n",
       "      <th></th>\n",
       "      <th>Name</th>\n",
       "      <th>Number of occurences</th>\n",
       "    </tr>\n",
       "  </thead>\n",
       "  <tbody>\n",
       "    <tr>\n",
       "      <th>0</th>\n",
       "      <td>MANCHESTER UTD</td>\n",
       "      <td>19</td>\n",
       "    </tr>\n",
       "    <tr>\n",
       "      <th>1</th>\n",
       "      <td>BAYERN MUNICH</td>\n",
       "      <td>18</td>\n",
       "    </tr>\n",
       "    <tr>\n",
       "      <th>2</th>\n",
       "      <td>BAYER LEVERKUSEN</td>\n",
       "      <td>16</td>\n",
       "    </tr>\n",
       "    <tr>\n",
       "      <th>3</th>\n",
       "      <td>VfL WOLFSBURG</td>\n",
       "      <td>16</td>\n",
       "    </tr>\n",
       "    <tr>\n",
       "      <th>4</th>\n",
       "      <td>BORUSSIA DORTMUND</td>\n",
       "      <td>13</td>\n",
       "    </tr>\n",
       "    <tr>\n",
       "      <th>5</th>\n",
       "      <td>HERTHA BERLIN</td>\n",
       "      <td>13</td>\n",
       "    </tr>\n",
       "    <tr>\n",
       "      <th>6</th>\n",
       "      <td>WERDER BREMEN</td>\n",
       "      <td>13</td>\n",
       "    </tr>\n",
       "    <tr>\n",
       "      <th>7</th>\n",
       "      <td>BORUSSIA MONCHENGLADBACH</td>\n",
       "      <td>13</td>\n",
       "    </tr>\n",
       "    <tr>\n",
       "      <th>8</th>\n",
       "      <td>VfB STUTTGART</td>\n",
       "      <td>12</td>\n",
       "    </tr>\n",
       "    <tr>\n",
       "      <th>9</th>\n",
       "      <td>EINTRACHT FRANKFURT</td>\n",
       "      <td>11</td>\n",
       "    </tr>\n",
       "  </tbody>\n",
       "</table>\n",
       "</div>"
      ],
      "text/plain": [
       "                       Name  Number of occurences\n",
       "0            MANCHESTER UTD                    19\n",
       "1             BAYERN MUNICH                    18\n",
       "2          BAYER LEVERKUSEN                    16\n",
       "3             VfL WOLFSBURG                    16\n",
       "4         BORUSSIA DORTMUND                    13\n",
       "5             HERTHA BERLIN                    13\n",
       "6             WERDER BREMEN                    13\n",
       "7  BORUSSIA MONCHENGLADBACH                    13\n",
       "8             VfB STUTTGART                    12\n",
       "9       EINTRACHT FRANKFURT                    11"
      ]
     },
     "metadata": {},
     "output_type": "display_data"
    }
   ],
   "source": [
    "Teams_ser = pd.Series(FC_dict)\n",
    "team_df = pd.DataFrame({'Name':Teams_ser.index, 'Number of occurences':Teams_ser.values})\n",
    "team_df_sorted = team_df.sort_values('Number of occurences', ascending = False).reset_index(drop=True)\n",
    "top_10_teams = team_df_sorted.head(10)\n",
    "display(top_10_teams)\n",
    "\n"
   ]
  },
  {
   "cell_type": "code",
   "execution_count": 46,
   "id": "421fc2ad",
   "metadata": {},
   "outputs": [
    {
     "data": {
      "image/png": "[encoded data removed]",
      "text/plain": [
       "<Figure size 640x480 with 1 Axes>"
      ]
     },
     "metadata": {},
     "output_type": "display_data"
    }
   ],
   "source": [
    "#Additionally create plot for the best comprehension:\n",
    "g1 = sns.barplot(x='Name', y='Number of occurences', data=top_10_teams)\n",
    "plt.xticks(rotation=70)\n",
    "#fig.set_size_inches(3, 2)\n",
    "#sns.set(rc={'figure.figsize':(8,3)})\n",
    "sns.set_style('darkgrid')\n",
    "g1.set_title('Amount of dream matches per competition', y=1.03)\n",
    "g1.set(ylabel = 'Matches')\n",
    "plt.yticks(np.arange(min(top_10_teams['Number of occurences'])-2, max(top_10_teams['Number of occurences']+1), step = 1))\n",
    "plt.ylim(min(top_10_teams['Number of occurences'])-2, max(top_10_teams['Number of occurences'])+1)\n",
    "plt.show()"
   ]
  },
  {
   "cell_type": "markdown",
   "id": "66952a02",
   "metadata": {},
   "source": [
    "# Bottom Line"
   ]
  },
  {
   "cell_type": "markdown",
   "id": "a7d4a5c2",
   "metadata": {},
   "source": [
    "1. We have got the big list of matches from the past to pick up to watch when there is nothing interesting live\n",
    "2. Germany is on the top, both national cup and league are super attractive. Then there is English premier league, which situates in the middle, having the gap both between german tournaments and other ones.  \n",
    "3. Germany clubs are, unsurprisingly, the best options. Still Manchester United stand out from all other English clubs, being represented in the table of the best matches the most amount of times out of all teams "
   ]
  }
 ],
 "metadata": {
  "kernelspec": {
   "display_name": "Python 3 (ipykernel)",
   "language": "python",
   "name": "python3"
  },
  "language_info": {
   "codemirror_mode": {
    "name": "ipython",
    "version": 3
   },
   "file_extension": ".py",
   "mimetype": "text/x-python",
   "name": "python",
   "nbconvert_exporter": "python",
   "pygments_lexer": "ipython3",
   "version": "3.9.13"
  }
 },
 "nbformat": 4,
 "nbformat_minor": 5
}
