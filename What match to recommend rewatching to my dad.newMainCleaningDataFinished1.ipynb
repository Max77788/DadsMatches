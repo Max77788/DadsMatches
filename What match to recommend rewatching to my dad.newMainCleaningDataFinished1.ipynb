{
 "cells": [
  {
   "cell_type": "markdown",
   "id": "71d6b483",
   "metadata": {},
   "source": [
    "# What match to recommend watching to my dad?"
   ]
  },
  {
   "cell_type": "markdown",
   "id": "846ba7ac",
   "metadata": {},
   "source": [
    "The amazing world cup is going to its end, so it is time to plan what matches to prefer to spectate in the future. Fortunately, the choice is wide. Top 5 leagues will come back just in few weeks, the eurocups will be online in a bit longer period but also pretty soon. My dad is a huge football fan as well I am, and I decided to make a list of attributes the supposedly the most interesting match should have, based on what my father is fascinated by during watching sport broadcasts(amount of goals, domination of one team over the opponent or vice versa the fierce fight until the last breathe, etc.) and the average time the match is about to start, so it can fit the schedule of my busy dad. Here we have the trove of data to deal with, where over 50000 observations are made over last 20 years. So there are the questions we are going to find the answer for:  What match to recommend rewatching to my dad?"
   ]
  },
  {
   "cell_type": "markdown",
   "id": "9c163796",
   "metadata": {},
   "source": [
    "Let's examine my dad's wishes about his dream match:\n",
    "1. Exactly one of the teams has letter 'U' in its name and it must win\n",
    "2. The match does not start later than 20:00 \n",
    "3. Minimum 2 goals are scored\n",
    "4. Match is played in summer"
   ]
  },
  {
   "cell_type": "markdown",
   "id": "e8a5255e",
   "metadata": {},
   "source": [
    "In addition to this, we will look for tendencies of certain leagues and concrete football clubs meeting these requirements so my dad will know for what matches he should take his time for"
   ]
  },
  {
   "cell_type": "markdown",
   "id": "4a155800",
   "metadata": {},
   "source": [
    "Let's form the plan we will follow during analysis:\n",
    "1. Find out the most interesting match to rewatch from the past(the time condition is not relevant here, thus we can put it down here)\n",
    "2. Determine the competition, which suits the dad's wishes the most\n",
    "3. Search the team, which meets the requirements the most"
   ]
  },
  {
   "cell_type": "markdown",
   "id": "83242fb5",
   "metadata": {},
   "source": [
    "The very first thing we need to do is to validate our data and clean where needed"
   ]
  },
  {
   "cell_type": "code",
   "execution_count": 4,
   "id": "86e8a2ac",
   "metadata": {},
   "outputs": [],
   "source": [
    "import pandas as pd\n",
    "import numpy as np\n",
    "football_data = pd.read_csv(r\"C:\\Users\\mmatr\\OneDrive\\Рабочий стол\\Football dataset\\Full_Kaggle_Dataset.csv\")"
   ]
  },
  {
   "cell_type": "code",
   "execution_count": 5,
   "id": "db15718c",
   "metadata": {},
   "outputs": [
    {
     "data": {
      "text/plain": [
       "(51402, 16)"
      ]
     },
     "metadata": {},
     "output_type": "display_data"
    },
    {
     "data": {
      "text/html": [
       "<div>\n",
       "<style scoped>\n",
       "    .dataframe tbody tr th:only-of-type {\n",
       "        vertical-align: middle;\n",
       "    }\n",
       "\n",
       "    .dataframe tbody tr th {\n",
       "        vertical-align: top;\n",
       "    }\n",
       "\n",
       "    .dataframe thead th {\n",
       "        text-align: right;\n",
       "    }\n",
       "</style>\n",
       "<table border=\"1\" class=\"dataframe\">\n",
       "  <thead>\n",
       "    <tr style=\"text-align: right;\">\n",
       "      <th></th>\n",
       "      <th>Home_Score</th>\n",
       "      <th>Away_Score</th>\n",
       "      <th>Home_Score_AET</th>\n",
       "      <th>Away_Score_AET</th>\n",
       "      <th>Home_Penalties</th>\n",
       "      <th>Away_Penalties</th>\n",
       "      <th>Home_Points</th>\n",
       "      <th>Away_Points</th>\n",
       "      <th>season</th>\n",
       "    </tr>\n",
       "  </thead>\n",
       "  <tbody>\n",
       "    <tr>\n",
       "      <th>count</th>\n",
       "      <td>51273.000000</td>\n",
       "      <td>51273.000000</td>\n",
       "      <td>1469.000000</td>\n",
       "      <td>1469.000000</td>\n",
       "      <td>809.000000</td>\n",
       "      <td>809.000000</td>\n",
       "      <td>51273.000000</td>\n",
       "      <td>51273.000000</td>\n",
       "      <td>51402.000000</td>\n",
       "    </tr>\n",
       "    <tr>\n",
       "      <th>mean</th>\n",
       "      <td>1.507480</td>\n",
       "      <td>1.190997</td>\n",
       "      <td>1.467665</td>\n",
       "      <td>1.424779</td>\n",
       "      <td>3.824475</td>\n",
       "      <td>3.950556</td>\n",
       "      <td>1.608761</td>\n",
       "      <td>1.163731</td>\n",
       "      <td>2011.906735</td>\n",
       "    </tr>\n",
       "    <tr>\n",
       "      <th>std</th>\n",
       "      <td>1.299938</td>\n",
       "      <td>1.189068</td>\n",
       "      <td>1.151268</td>\n",
       "      <td>1.123485</td>\n",
       "      <td>1.823620</td>\n",
       "      <td>1.787616</td>\n",
       "      <td>1.335362</td>\n",
       "      <td>1.296897</td>\n",
       "      <td>5.759252</td>\n",
       "    </tr>\n",
       "    <tr>\n",
       "      <th>min</th>\n",
       "      <td>0.000000</td>\n",
       "      <td>0.000000</td>\n",
       "      <td>0.000000</td>\n",
       "      <td>0.000000</td>\n",
       "      <td>0.000000</td>\n",
       "      <td>0.000000</td>\n",
       "      <td>0.000000</td>\n",
       "      <td>0.000000</td>\n",
       "      <td>2002.000000</td>\n",
       "    </tr>\n",
       "    <tr>\n",
       "      <th>25%</th>\n",
       "      <td>1.000000</td>\n",
       "      <td>0.000000</td>\n",
       "      <td>1.000000</td>\n",
       "      <td>1.000000</td>\n",
       "      <td>3.000000</td>\n",
       "      <td>3.000000</td>\n",
       "      <td>0.000000</td>\n",
       "      <td>0.000000</td>\n",
       "      <td>2007.000000</td>\n",
       "    </tr>\n",
       "    <tr>\n",
       "      <th>50%</th>\n",
       "      <td>1.000000</td>\n",
       "      <td>1.000000</td>\n",
       "      <td>1.000000</td>\n",
       "      <td>1.000000</td>\n",
       "      <td>4.000000</td>\n",
       "      <td>4.000000</td>\n",
       "      <td>1.000000</td>\n",
       "      <td>1.000000</td>\n",
       "      <td>2012.000000</td>\n",
       "    </tr>\n",
       "    <tr>\n",
       "      <th>75%</th>\n",
       "      <td>2.000000</td>\n",
       "      <td>2.000000</td>\n",
       "      <td>2.000000</td>\n",
       "      <td>2.000000</td>\n",
       "      <td>5.000000</td>\n",
       "      <td>5.000000</td>\n",
       "      <td>3.000000</td>\n",
       "      <td>3.000000</td>\n",
       "      <td>2017.000000</td>\n",
       "    </tr>\n",
       "    <tr>\n",
       "      <th>max</th>\n",
       "      <td>14.000000</td>\n",
       "      <td>15.000000</td>\n",
       "      <td>8.000000</td>\n",
       "      <td>6.000000</td>\n",
       "      <td>13.000000</td>\n",
       "      <td>14.000000</td>\n",
       "      <td>3.000000</td>\n",
       "      <td>3.000000</td>\n",
       "      <td>2022.000000</td>\n",
       "    </tr>\n",
       "  </tbody>\n",
       "</table>\n",
       "</div>"
      ],
      "text/plain": [
       "         Home_Score    Away_Score  Home_Score_AET  Away_Score_AET  \\\n",
       "count  51273.000000  51273.000000     1469.000000     1469.000000   \n",
       "mean       1.507480      1.190997        1.467665        1.424779   \n",
       "std        1.299938      1.189068        1.151268        1.123485   \n",
       "min        0.000000      0.000000        0.000000        0.000000   \n",
       "25%        1.000000      0.000000        1.000000        1.000000   \n",
       "50%        1.000000      1.000000        1.000000        1.000000   \n",
       "75%        2.000000      2.000000        2.000000        2.000000   \n",
       "max       14.000000     15.000000        8.000000        6.000000   \n",
       "\n",
       "       Home_Penalties  Away_Penalties   Home_Points   Away_Points  \\\n",
       "count      809.000000      809.000000  51273.000000  51273.000000   \n",
       "mean         3.824475        3.950556      1.608761      1.163731   \n",
       "std          1.823620        1.787616      1.335362      1.296897   \n",
       "min          0.000000        0.000000      0.000000      0.000000   \n",
       "25%          3.000000        3.000000      0.000000      0.000000   \n",
       "50%          4.000000        4.000000      1.000000      1.000000   \n",
       "75%          5.000000        5.000000      3.000000      3.000000   \n",
       "max         13.000000       14.000000      3.000000      3.000000   \n",
       "\n",
       "             season  \n",
       "count  51402.000000  \n",
       "mean    2011.906735  \n",
       "std        5.759252  \n",
       "min     2002.000000  \n",
       "25%     2007.000000  \n",
       "50%     2012.000000  \n",
       "75%     2017.000000  \n",
       "max     2022.000000  "
      ]
     },
     "execution_count": 5,
     "metadata": {},
     "output_type": "execute_result"
    }
   ],
   "source": [
    "display(football_data.shape)\n",
    "football_data.describe()"
   ]
  },
  {
   "cell_type": "markdown",
   "id": "a2a21e89",
   "metadata": {},
   "source": [
    "O-oh, we see that amount of non-null values in 'Home_Score', 'Away_Score' 'Home_Points' and 'Away_Points'columns don't match the length of the dataframe.\n",
    "Therefore we are going to remove those rows where it is the case:"
   ]
  },
  {
   "cell_type": "code",
   "execution_count": 6,
   "id": "28134b26",
   "metadata": {},
   "outputs": [
    {
     "data": {
      "text/plain": [
       "(51273, 16)"
      ]
     },
     "execution_count": 6,
     "metadata": {},
     "output_type": "execute_result"
    }
   ],
   "source": [
    "football_data = football_data.dropna(subset = ['Home_Score', 'Away_Score','Home_Points','Away_Points'])\n",
    "football_data.shape"
   ]
  },
  {
   "cell_type": "markdown",
   "id": "ee68f873",
   "metadata": {},
   "source": [
    "Next step we ensure there are no unpleasant surprises in the other columns:"
   ]
  },
  {
   "cell_type": "code",
   "execution_count": 7,
   "id": "4661bbbc",
   "metadata": {},
   "outputs": [
    {
     "data": {
      "text/plain": [
       "'football_data[Round] - 0'"
      ]
     },
     "metadata": {},
     "output_type": "display_data"
    },
    {
     "data": {
      "text/plain": [
       "'football_data[Date] - 0'"
      ]
     },
     "metadata": {},
     "output_type": "display_data"
    },
    {
     "data": {
      "text/plain": [
       "'football_data[Time] - 0'"
      ]
     },
     "metadata": {},
     "output_type": "display_data"
    },
    {
     "data": {
      "text/plain": [
       "'football_data[Home_Team] - 0'"
      ]
     },
     "metadata": {},
     "output_type": "display_data"
    },
    {
     "data": {
      "text/plain": [
       "'football_data[Home_Score] - 0'"
      ]
     },
     "metadata": {},
     "output_type": "display_data"
    },
    {
     "data": {
      "text/plain": [
       "'football_data[Away_Score] - 0'"
      ]
     },
     "metadata": {},
     "output_type": "display_data"
    },
    {
     "data": {
      "text/plain": [
       "'football_data[Away_Team] - 0'"
      ]
     },
     "metadata": {},
     "output_type": "display_data"
    },
    {
     "data": {
      "text/plain": [
       "'football_data[Home_Score_AET] - 49804'"
      ]
     },
     "metadata": {},
     "output_type": "display_data"
    },
    {
     "data": {
      "text/plain": [
       "'football_data[Away_Score_AET] - 49804'"
      ]
     },
     "metadata": {},
     "output_type": "display_data"
    },
    {
     "data": {
      "text/plain": [
       "'football_data[Home_Penalties] - 50464'"
      ]
     },
     "metadata": {},
     "output_type": "display_data"
    },
    {
     "data": {
      "text/plain": [
       "'football_data[Away_Penalties] - 50464'"
      ]
     },
     "metadata": {},
     "output_type": "display_data"
    },
    {
     "data": {
      "text/plain": [
       "'football_data[Home_Points] - 0'"
      ]
     },
     "metadata": {},
     "output_type": "display_data"
    },
    {
     "data": {
      "text/plain": [
       "'football_data[Away_Points] - 0'"
      ]
     },
     "metadata": {},
     "output_type": "display_data"
    },
    {
     "data": {
      "text/plain": [
       "'football_data[season] - 0'"
      ]
     },
     "metadata": {},
     "output_type": "display_data"
    },
    {
     "data": {
      "text/plain": [
       "'football_data[Country] - 0'"
      ]
     },
     "metadata": {},
     "output_type": "display_data"
    },
    {
     "data": {
      "text/plain": [
       "'football_data[Competition] - 0'"
      ]
     },
     "metadata": {},
     "output_type": "display_data"
    }
   ],
   "source": [
    "for x in football_data.columns:\n",
    "    display('football_data['+x+']' + ' - '+str(football_data[x].isna().sum()))"
   ]
  },
  {
   "cell_type": "markdown",
   "id": "c606118f",
   "metadata": {},
   "source": [
    "Everything is good, no unexpected information was revealed. The amount of NaN values in the 'Home_Score_AET' and 'Away_Score_AET' columns is so big, because extra times are played in football matches quite rarely(actually never in league competitions). So it is not a mistake, but it is rather the exception when those values are not blank. The similar situation is with penalty attributes."
   ]
  },
  {
   "cell_type": "markdown",
   "id": "5d80cdd9",
   "metadata": {},
   "source": [
    "With intent to make the data more detailed and insightful, I decided to add details to the 'Competition' attribute, namely to the matches of fa-cups(football association cups) by specifying the country in its name in the column:"
   ]
  },
  {
   "cell_type": "code",
   "execution_count": 8,
   "id": "22dda56b",
   "metadata": {},
   "outputs": [],
   "source": [
    "country_list = football_data['Country'].unique()\n",
    "for index, row in football_data.iterrows():\n",
    "    comp_name = row['Competition']\n",
    "    country_name = row['Country']\n",
    "    if comp_name == 'fa-cup':\n",
    "        comp_name = country_name+'_cup'\n",
    "    football_data.at[index, 'Competition'] = comp_name"
   ]
  },
  {
   "cell_type": "markdown",
   "id": "e20f95ad",
   "metadata": {},
   "source": [
    "As the final step of this stage we count the amount of matches per competition and country represented in the data, so we are sure the answers will be fair, not biased:"
   ]
  },
  {
   "cell_type": "code",
   "execution_count": 9,
   "id": "a427c619",
   "metadata": {},
   "outputs": [
    {
     "data": {
      "text/plain": [
       "premier-league           7699\n",
       "primera-division         7680\n",
       "ligue-1                  7600\n",
       "serie-a                  7542\n",
       "bundesliga               6201\n",
       "england_cup              3005\n",
       "uefa-europa-league       2590\n",
       "uefa-champions-league    2526\n",
       "france_cup               2178\n",
       "spain_cup                1783\n",
       "germany_cup              1243\n",
       "italy_cup                1226\n",
       "Name: Competition, dtype: int64"
      ]
     },
     "metadata": {},
     "output_type": "display_data"
    },
    {
     "data": {
      "text/plain": [
       "england        10704\n",
       "france          9778\n",
       "spain           9463\n",
       "italy           8768\n",
       "germany         7444\n",
       "europe-uefa     5116\n",
       "Name: Country, dtype: int64"
      ]
     },
     "execution_count": 9,
     "metadata": {},
     "output_type": "execute_result"
    }
   ],
   "source": [
    "display(football_data['Competition'].value_counts())\n",
    "football_data['Country'].value_counts()"
   ]
  },
  {
   "cell_type": "markdown",
   "id": "983aed3f",
   "metadata": {},
   "source": [
    "In general, there is no huge skew in any obseravation, but we must pay attention to the fact that there are considerably less matches from Germany and Eurocups(which indeed is OK due to their regulatiry) but not to make massive difference"
   ]
  },
  {
   "cell_type": "markdown",
   "id": "2719db57",
   "metadata": {},
   "source": [
    "Perfect, now when only the valid observations are left in the table, the validation and cleaning process is over. From that moment we can procced to exploratory data analysis:"
   ]
  },
  {
   "cell_type": "markdown",
   "id": "c39a7df9",
   "metadata": {},
   "source": [
    "So, what we are going to begin with is adding some useful columns to derives some important attributes regarding wishes above"
   ]
  },
  {
   "cell_type": "markdown",
   "id": "ede8b27f",
   "metadata": {},
   "source": [
    "Firstly, define the column which indicates whether letter 'u' is contained in the home and away team's name:"
   ]
  },
  {
   "cell_type": "code",
   "execution_count": 10,
   "id": "0bcbc72f",
   "metadata": {},
   "outputs": [],
   "source": [
    "football_data['Home_U'] = football_data['Home_Team'].apply(lambda x: 1 if 'u' in x.lower() else 0)\n",
    "football_data['Away_U'] = football_data['Away_Team'].apply(lambda x: 1 if 'u' in x.lower() else 0)"
   ]
  },
  {
   "cell_type": "markdown",
   "id": "173cda51",
   "metadata": {},
   "source": [
    "--------------------------------------------------------------------------------------------------------------------------------"
   ]
  },
  {
   "cell_type": "markdown",
   "id": "47a06c92",
   "metadata": {},
   "source": [
    "\n",
    "Then, based on the newly appended columns' values, we determine either one of the teams names('home', 'away') include letter 'U' or none or both of them:"
   ]
  },
  {
   "cell_type": "code",
   "execution_count": 11,
   "id": "ace56e3e",
   "metadata": {},
   "outputs": [],
   "source": [
    "where_U_list = []\n",
    "for index, row in football_data.iterrows():\n",
    "    if row['Home_U'] == 1 and row['Away_U'] == 1:\n",
    "        where_U_list.append('both')\n",
    "    elif row['Home_U'] == 1 and row['Away_U'] == 0:\n",
    "        where_U_list.append('home')\n",
    "    elif row['Home_U'] == 0 and row['Away_U'] == 1:\n",
    "        where_U_list.append('away')\n",
    "    else:\n",
    "        where_U_list.append('none')\n",
    "football_data.insert(football_data.shape[1], 'where_U', where_U_list)"
   ]
  },
  {
   "cell_type": "markdown",
   "id": "7e0a111f",
   "metadata": {},
   "source": [
    "Still preparing data for querying regarding first condition we must determine the result of the match('home_win', 'draw', 'away_win'). For that we calculate the goal_difference in every observation:"
   ]
  },
  {
   "cell_type": "code",
   "execution_count": 12,
   "id": "9aaf77bd",
   "metadata": {},
   "outputs": [],
   "source": [
    "football_data['goals_difference'] = football_data['Home_Score'] - football_data['Away_Score']\n",
    "football_data['goals_difference_AET'] = football_data['Home_Score_AET'] - football_data['Away_Score_AET']"
   ]
  },
  {
   "cell_type": "markdown",
   "id": "4525d327",
   "metadata": {},
   "source": [
    "Subsequently, derive match result:\n"
   ]
  },
  {
   "cell_type": "code",
   "execution_count": 13,
   "id": "191107c0",
   "metadata": {},
   "outputs": [],
   "source": [
    "result_list = []\n",
    "for index, row in football_data.iterrows():\n",
    "    if row['goals_difference'] > 0:\n",
    "        result_list.append('home_win')\n",
    "    elif row['goals_difference'] < 0:\n",
    "        result_list.append('away_win')\n",
    "    else:\n",
    "        result_list.append('draw')\n",
    "football_data.insert(football_data.shape[1], 'result', result_list)        "
   ]
  },
  {
   "cell_type": "code",
   "execution_count": 14,
   "id": "6a58c356",
   "metadata": {},
   "outputs": [],
   "source": [
    "result_list_AET = []\n",
    "for index, row in football_data.iterrows():\n",
    "    if row['goals_difference_AET'] > 0:\n",
    "        result_list_AET.append('home_win')\n",
    "    elif row['goals_difference_AET'] < 0:\n",
    "        result_list_AET.append('away_win')\n",
    "    else:\n",
    "        result_list_AET.append('draw')\n",
    "        \n",
    "football_data.insert(football_data.shape[1], 'result_AET', result_list_AET) "
   ]
  },
  {
   "cell_type": "markdown",
   "id": "1abb60bf",
   "metadata": {},
   "source": [
    "Now proceeding straightly to the third condition, because, considering these matches have already been played, their start time(the second condition) and the year season(the fourth one) are irrelevant. So minimum amount of 2 goals was scored. "
   ]
  },
  {
   "cell_type": "markdown",
   "id": "a9c044a3",
   "metadata": {},
   "source": [
    "For calculating this property we need to extract the number of all goals scored, two teams combined(cup matches with extra times are included as well):"
   ]
  },
  {
   "cell_type": "code",
   "execution_count": 15,
   "id": "8a89cae9",
   "metadata": {},
   "outputs": [],
   "source": [
    "football_data['total_goals'] = football_data['Home_Score']+football_data['Away_Score']\n",
    "football_data['total_goals_AET'] = football_data['Home_Score_AET']+football_data['Away_Score_AET']"
   ]
  },
  {
   "cell_type": "markdown",
   "id": "1b202624",
   "metadata": {},
   "source": [
    "Great, finally when some preparation work is done, we advance to the most captivating part - searching the most attractive match, regarding dad's requests. For that we sieve our matches, based on 'u' condition:"
   ]
  },
  {
   "cell_type": "code",
   "execution_count": 16,
   "id": "75b9aade",
   "metadata": {},
   "outputs": [],
   "source": [
    "only_U = football_data.loc[(football_data['where_U'] == 'away') | (football_data['where_U'] == 'home')]"
   ]
  },
  {
   "cell_type": "code",
   "execution_count": 17,
   "id": "cfd47ef9",
   "metadata": {},
   "outputs": [],
   "source": [
    "only_U_home_w = only_U[(only_U['where_U'] == 'home') & (only_U['result']=='home_win')]\n",
    "only_U_away_w = only_U[(only_U['where_U'] == 'away') & (only_U['result']=='away_win')]\n",
    "only_U_winners = pd.concat([only_U_home_w, only_U_away_w])"
   ]
  },
  {
   "cell_type": "markdown",
   "id": "93010bae",
   "metadata": {},
   "source": [
    "Now extract the matches, where at least 2 goals were scored:"
   ]
  },
  {
   "cell_type": "code",
   "execution_count": 18,
   "id": "8e7fea44",
   "metadata": {},
   "outputs": [
    {
     "data": {
      "text/plain": [
       "(4854, 25)"
      ]
     },
     "execution_count": 18,
     "metadata": {},
     "output_type": "execute_result"
    }
   ],
   "source": [
    "only_U_winners_2_goals = only_U_winners[(only_U_winners['total_goals'] >=2) | (only_U_winners['total_goals_AET'] >=2)]\n",
    "only_U_winners_2_goals.shape\n"
   ]
  },
  {
   "cell_type": "markdown",
   "id": "5d196c9b",
   "metadata": {},
   "source": [
    "As we can see there is a plenty of matches to choose from, but we want my dad to have as much fun while watching the game as possible, so we will figure out the matches with the most amount of goals scored in every competition represented in the dataset: "
   ]
  },
  {
   "cell_type": "code",
   "execution_count": 19,
   "id": "7e67b625",
   "metadata": {},
   "outputs": [
    {
     "data": {
      "text/html": [
       "<div>\n",
       "<style scoped>\n",
       "    .dataframe tbody tr th:only-of-type {\n",
       "        vertical-align: middle;\n",
       "    }\n",
       "\n",
       "    .dataframe tbody tr th {\n",
       "        vertical-align: top;\n",
       "    }\n",
       "\n",
       "    .dataframe thead th {\n",
       "        text-align: right;\n",
       "    }\n",
       "</style>\n",
       "<table border=\"1\" class=\"dataframe\">\n",
       "  <thead>\n",
       "    <tr style=\"text-align: right;\">\n",
       "      <th></th>\n",
       "      <th>Round</th>\n",
       "      <th>Date</th>\n",
       "      <th>Time</th>\n",
       "      <th>Home_Team</th>\n",
       "      <th>Home_Score</th>\n",
       "      <th>Away_Score</th>\n",
       "      <th>Away_Team</th>\n",
       "      <th>Competition</th>\n",
       "    </tr>\n",
       "  </thead>\n",
       "  <tbody>\n",
       "    <tr>\n",
       "      <th>2537</th>\n",
       "      <td>ROUND 26</td>\n",
       "      <td>08/03/2009</td>\n",
       "      <td>18:00</td>\n",
       "      <td>DEPORTIVO LA CORUNA</td>\n",
       "      <td>5.0</td>\n",
       "      <td>3.0</td>\n",
       "      <td>RACING SANTANDER</td>\n",
       "      <td>primera-division</td>\n",
       "    </tr>\n",
       "  </tbody>\n",
       "</table>\n",
       "</div>"
      ],
      "text/plain": [
       "         Round        Date   Time            Home_Team  Home_Score  \\\n",
       "2537  ROUND 26  08/03/2009  18:00  DEPORTIVO LA CORUNA         5.0   \n",
       "\n",
       "      Away_Score         Away_Team       Competition  \n",
       "2537         3.0  RACING SANTANDER  primera-division  "
      ]
     },
     "metadata": {},
     "output_type": "display_data"
    },
    {
     "data": {
      "text/html": [
       "<div>\n",
       "<style scoped>\n",
       "    .dataframe tbody tr th:only-of-type {\n",
       "        vertical-align: middle;\n",
       "    }\n",
       "\n",
       "    .dataframe tbody tr th {\n",
       "        vertical-align: top;\n",
       "    }\n",
       "\n",
       "    .dataframe thead th {\n",
       "        text-align: right;\n",
       "    }\n",
       "</style>\n",
       "<table border=\"1\" class=\"dataframe\">\n",
       "  <thead>\n",
       "    <tr style=\"text-align: right;\">\n",
       "      <th></th>\n",
       "      <th>Round</th>\n",
       "      <th>Date</th>\n",
       "      <th>Time</th>\n",
       "      <th>Home_Team</th>\n",
       "      <th>Home_Score</th>\n",
       "      <th>Away_Score</th>\n",
       "      <th>Away_Team</th>\n",
       "      <th>Competition</th>\n",
       "    </tr>\n",
       "  </thead>\n",
       "  <tbody>\n",
       "    <tr>\n",
       "      <th>9650</th>\n",
       "      <td>ROUND 8</td>\n",
       "      <td>29/09/2007</td>\n",
       "      <td>17:00</td>\n",
       "      <td>PORTSMOUTH</td>\n",
       "      <td>7.0</td>\n",
       "      <td>4.0</td>\n",
       "      <td>READING</td>\n",
       "      <td>premier-league</td>\n",
       "    </tr>\n",
       "  </tbody>\n",
       "</table>\n",
       "</div>"
      ],
      "text/plain": [
       "        Round        Date   Time   Home_Team  Home_Score  Away_Score  \\\n",
       "9650  ROUND 8  29/09/2007  17:00  PORTSMOUTH         7.0         4.0   \n",
       "\n",
       "     Away_Team     Competition  \n",
       "9650   READING  premier-league  "
      ]
     },
     "metadata": {},
     "output_type": "display_data"
    },
    {
     "data": {
      "text/html": [
       "<div>\n",
       "<style scoped>\n",
       "    .dataframe tbody tr th:only-of-type {\n",
       "        vertical-align: middle;\n",
       "    }\n",
       "\n",
       "    .dataframe tbody tr th {\n",
       "        vertical-align: top;\n",
       "    }\n",
       "\n",
       "    .dataframe thead th {\n",
       "        text-align: right;\n",
       "    }\n",
       "</style>\n",
       "<table border=\"1\" class=\"dataframe\">\n",
       "  <thead>\n",
       "    <tr style=\"text-align: right;\">\n",
       "      <th></th>\n",
       "      <th>Round</th>\n",
       "      <th>Date</th>\n",
       "      <th>Time</th>\n",
       "      <th>Home_Team</th>\n",
       "      <th>Home_Score</th>\n",
       "      <th>Away_Score</th>\n",
       "      <th>Away_Team</th>\n",
       "      <th>Competition</th>\n",
       "    </tr>\n",
       "  </thead>\n",
       "  <tbody>\n",
       "    <tr>\n",
       "      <th>16396</th>\n",
       "      <td>ROUND 10</td>\n",
       "      <td>22/10/2005</td>\n",
       "      <td>16:30</td>\n",
       "      <td>EINTRACHT FRANKFURT</td>\n",
       "      <td>6.0</td>\n",
       "      <td>3.0</td>\n",
       "      <td>FC KOLN</td>\n",
       "      <td>bundesliga</td>\n",
       "    </tr>\n",
       "    <tr>\n",
       "      <th>17125</th>\n",
       "      <td>ROUND 23</td>\n",
       "      <td>08/03/2008</td>\n",
       "      <td>16:30</td>\n",
       "      <td>VfB STUTTGART</td>\n",
       "      <td>6.0</td>\n",
       "      <td>3.0</td>\n",
       "      <td>WERDER BREMEN</td>\n",
       "      <td>bundesliga</td>\n",
       "    </tr>\n",
       "    <tr>\n",
       "      <th>15677</th>\n",
       "      <td>ROUND 32</td>\n",
       "      <td>10/05/2003</td>\n",
       "      <td>17:30</td>\n",
       "      <td>HERTHA BERLIN</td>\n",
       "      <td>3.0</td>\n",
       "      <td>6.0</td>\n",
       "      <td>BAYERN MUNICH</td>\n",
       "      <td>bundesliga</td>\n",
       "    </tr>\n",
       "    <tr>\n",
       "      <th>19967</th>\n",
       "      <td>ROUND 33</td>\n",
       "      <td>13/05/2017</td>\n",
       "      <td>16:30</td>\n",
       "      <td>RB LEIPZIG</td>\n",
       "      <td>4.0</td>\n",
       "      <td>5.0</td>\n",
       "      <td>BAYERN MUNICH</td>\n",
       "      <td>bundesliga</td>\n",
       "    </tr>\n",
       "  </tbody>\n",
       "</table>\n",
       "</div>"
      ],
      "text/plain": [
       "          Round        Date   Time            Home_Team  Home_Score  \\\n",
       "16396  ROUND 10  22/10/2005  16:30  EINTRACHT FRANKFURT         6.0   \n",
       "17125  ROUND 23  08/03/2008  16:30        VfB STUTTGART         6.0   \n",
       "15677  ROUND 32  10/05/2003  17:30        HERTHA BERLIN         3.0   \n",
       "19967  ROUND 33  13/05/2017  16:30           RB LEIPZIG         4.0   \n",
       "\n",
       "       Away_Score      Away_Team Competition  \n",
       "16396         3.0        FC KOLN  bundesliga  \n",
       "17125         3.0  WERDER BREMEN  bundesliga  \n",
       "15677         6.0  BAYERN MUNICH  bundesliga  \n",
       "19967         5.0  BAYERN MUNICH  bundesliga  "
      ]
     },
     "metadata": {},
     "output_type": "display_data"
    },
    {
     "data": {
      "text/html": [
       "<div>\n",
       "<style scoped>\n",
       "    .dataframe tbody tr th:only-of-type {\n",
       "        vertical-align: middle;\n",
       "    }\n",
       "\n",
       "    .dataframe tbody tr th {\n",
       "        vertical-align: top;\n",
       "    }\n",
       "\n",
       "    .dataframe thead th {\n",
       "        text-align: right;\n",
       "    }\n",
       "</style>\n",
       "<table border=\"1\" class=\"dataframe\">\n",
       "  <thead>\n",
       "    <tr style=\"text-align: right;\">\n",
       "      <th></th>\n",
       "      <th>Round</th>\n",
       "      <th>Date</th>\n",
       "      <th>Time</th>\n",
       "      <th>Home_Team</th>\n",
       "      <th>Home_Score</th>\n",
       "      <th>Away_Score</th>\n",
       "      <th>Away_Team</th>\n",
       "      <th>Competition</th>\n",
       "    </tr>\n",
       "  </thead>\n",
       "  <tbody>\n",
       "    <tr>\n",
       "      <th>25237</th>\n",
       "      <td>ROUND 23</td>\n",
       "      <td>12/02/2012</td>\n",
       "      <td>16:00</td>\n",
       "      <td>LILLE</td>\n",
       "      <td>4.0</td>\n",
       "      <td>5.0</td>\n",
       "      <td>BORDEAUX</td>\n",
       "      <td>ligue-1</td>\n",
       "    </tr>\n",
       "  </tbody>\n",
       "</table>\n",
       "</div>"
      ],
      "text/plain": [
       "          Round        Date   Time Home_Team  Home_Score  Away_Score  \\\n",
       "25237  ROUND 23  12/02/2012  16:00     LILLE         4.0         5.0   \n",
       "\n",
       "      Away_Team Competition  \n",
       "25237  BORDEAUX     ligue-1  "
      ]
     },
     "metadata": {},
     "output_type": "display_data"
    },
    {
     "data": {
      "text/html": [
       "<div>\n",
       "<style scoped>\n",
       "    .dataframe tbody tr th:only-of-type {\n",
       "        vertical-align: middle;\n",
       "    }\n",
       "\n",
       "    .dataframe tbody tr th {\n",
       "        vertical-align: top;\n",
       "    }\n",
       "\n",
       "    .dataframe thead th {\n",
       "        text-align: right;\n",
       "    }\n",
       "</style>\n",
       "<table border=\"1\" class=\"dataframe\">\n",
       "  <thead>\n",
       "    <tr style=\"text-align: right;\">\n",
       "      <th></th>\n",
       "      <th>Round</th>\n",
       "      <th>Date</th>\n",
       "      <th>Time</th>\n",
       "      <th>Home_Team</th>\n",
       "      <th>Home_Score</th>\n",
       "      <th>Away_Score</th>\n",
       "      <th>Away_Team</th>\n",
       "      <th>Competition</th>\n",
       "    </tr>\n",
       "  </thead>\n",
       "  <tbody>\n",
       "    <tr>\n",
       "      <th>30248</th>\n",
       "      <td>ROUND 35</td>\n",
       "      <td>08/05/2005</td>\n",
       "      <td>16:00</td>\n",
       "      <td>LIVORNO</td>\n",
       "      <td>3.0</td>\n",
       "      <td>6.0</td>\n",
       "      <td>ROBUR SIENA</td>\n",
       "      <td>serie-a</td>\n",
       "    </tr>\n",
       "  </tbody>\n",
       "</table>\n",
       "</div>"
      ],
      "text/plain": [
       "          Round        Date   Time Home_Team  Home_Score  Away_Score  \\\n",
       "30248  ROUND 35  08/05/2005  16:00   LIVORNO         3.0         6.0   \n",
       "\n",
       "         Away_Team Competition  \n",
       "30248  ROBUR SIENA     serie-a  "
      ]
     },
     "metadata": {},
     "output_type": "display_data"
    },
    {
     "data": {
      "text/html": [
       "<div>\n",
       "<style scoped>\n",
       "    .dataframe tbody tr th:only-of-type {\n",
       "        vertical-align: middle;\n",
       "    }\n",
       "\n",
       "    .dataframe tbody tr th {\n",
       "        vertical-align: top;\n",
       "    }\n",
       "\n",
       "    .dataframe thead th {\n",
       "        text-align: right;\n",
       "    }\n",
       "</style>\n",
       "<table border=\"1\" class=\"dataframe\">\n",
       "  <thead>\n",
       "    <tr style=\"text-align: right;\">\n",
       "      <th></th>\n",
       "      <th>Round</th>\n",
       "      <th>Date</th>\n",
       "      <th>Time</th>\n",
       "      <th>Home_Team</th>\n",
       "      <th>Home_Score</th>\n",
       "      <th>Away_Score</th>\n",
       "      <th>Away_Team</th>\n",
       "      <th>Competition</th>\n",
       "    </tr>\n",
       "  </thead>\n",
       "  <tbody>\n",
       "    <tr>\n",
       "      <th>38688</th>\n",
       "      <td>group-stage</td>\n",
       "      <td>22/11/2016</td>\n",
       "      <td>21:45</td>\n",
       "      <td>BORUSSIA DORTMUND</td>\n",
       "      <td>8.0</td>\n",
       "      <td>4.0</td>\n",
       "      <td>LEGIA WARSZAWA</td>\n",
       "      <td>uefa-champions-league</td>\n",
       "    </tr>\n",
       "  </tbody>\n",
       "</table>\n",
       "</div>"
      ],
      "text/plain": [
       "             Round        Date   Time          Home_Team  Home_Score  \\\n",
       "38688  group-stage  22/11/2016  21:45  BORUSSIA DORTMUND         8.0   \n",
       "\n",
       "       Away_Score       Away_Team            Competition  \n",
       "38688         4.0  LEGIA WARSZAWA  uefa-champions-league  "
      ]
     },
     "metadata": {},
     "output_type": "display_data"
    },
    {
     "data": {
      "text/html": [
       "<div>\n",
       "<style scoped>\n",
       "    .dataframe tbody tr th:only-of-type {\n",
       "        vertical-align: middle;\n",
       "    }\n",
       "\n",
       "    .dataframe tbody tr th {\n",
       "        vertical-align: top;\n",
       "    }\n",
       "\n",
       "    .dataframe thead th {\n",
       "        text-align: right;\n",
       "    }\n",
       "</style>\n",
       "<table border=\"1\" class=\"dataframe\">\n",
       "  <thead>\n",
       "    <tr style=\"text-align: right;\">\n",
       "      <th></th>\n",
       "      <th>Round</th>\n",
       "      <th>Date</th>\n",
       "      <th>Time</th>\n",
       "      <th>Home_Team</th>\n",
       "      <th>Home_Score</th>\n",
       "      <th>Away_Score</th>\n",
       "      <th>Away_Team</th>\n",
       "      <th>Competition</th>\n",
       "    </tr>\n",
       "  </thead>\n",
       "  <tbody>\n",
       "    <tr>\n",
       "      <th>41620</th>\n",
       "      <td>group-stage</td>\n",
       "      <td>22/10/2020</td>\n",
       "      <td>19:55</td>\n",
       "      <td>BAYER LEVERKUSEN</td>\n",
       "      <td>6.0</td>\n",
       "      <td>2.0</td>\n",
       "      <td>NICE</td>\n",
       "      <td>uefa-europa-league</td>\n",
       "    </tr>\n",
       "    <tr>\n",
       "      <th>41812</th>\n",
       "      <td>semi-finals</td>\n",
       "      <td>29/04/2021</td>\n",
       "      <td>22:00</td>\n",
       "      <td>MANCHESTER UTD</td>\n",
       "      <td>6.0</td>\n",
       "      <td>2.0</td>\n",
       "      <td>ROMA</td>\n",
       "      <td>uefa-europa-league</td>\n",
       "    </tr>\n",
       "  </tbody>\n",
       "</table>\n",
       "</div>"
      ],
      "text/plain": [
       "             Round        Date   Time         Home_Team  Home_Score  \\\n",
       "41620  group-stage  22/10/2020  19:55  BAYER LEVERKUSEN         6.0   \n",
       "41812  semi-finals  29/04/2021  22:00    MANCHESTER UTD         6.0   \n",
       "\n",
       "       Away_Score Away_Team         Competition  \n",
       "41620         2.0      NICE  uefa-europa-league  \n",
       "41812         2.0      ROMA  uefa-europa-league  "
      ]
     },
     "metadata": {},
     "output_type": "display_data"
    },
    {
     "data": {
      "text/html": [
       "<div>\n",
       "<style scoped>\n",
       "    .dataframe tbody tr th:only-of-type {\n",
       "        vertical-align: middle;\n",
       "    }\n",
       "\n",
       "    .dataframe tbody tr th {\n",
       "        vertical-align: top;\n",
       "    }\n",
       "\n",
       "    .dataframe thead th {\n",
       "        text-align: right;\n",
       "    }\n",
       "</style>\n",
       "<table border=\"1\" class=\"dataframe\">\n",
       "  <thead>\n",
       "    <tr style=\"text-align: right;\">\n",
       "      <th></th>\n",
       "      <th>Round</th>\n",
       "      <th>Date</th>\n",
       "      <th>Time</th>\n",
       "      <th>Home_Team</th>\n",
       "      <th>Home_Score</th>\n",
       "      <th>Away_Score</th>\n",
       "      <th>Away_Team</th>\n",
       "      <th>Competition</th>\n",
       "    </tr>\n",
       "  </thead>\n",
       "  <tbody>\n",
       "    <tr>\n",
       "      <th>43565</th>\n",
       "      <td>second-round</td>\n",
       "      <td>05/01/2021</td>\n",
       "      <td>18:00</td>\n",
       "      <td>UD IBIZA</td>\n",
       "      <td>5.0</td>\n",
       "      <td>2.0</td>\n",
       "      <td>CELTA VIGO</td>\n",
       "      <td>spain_cup</td>\n",
       "    </tr>\n",
       "    <tr>\n",
       "      <th>41960</th>\n",
       "      <td>round-32</td>\n",
       "      <td>05/11/2002</td>\n",
       "      <td>22:30</td>\n",
       "      <td>RACING DE FERROL</td>\n",
       "      <td>3.0</td>\n",
       "      <td>4.0</td>\n",
       "      <td>DEPORTIVO LA CORUNA</td>\n",
       "      <td>spain_cup</td>\n",
       "    </tr>\n",
       "    <tr>\n",
       "      <th>42274</th>\n",
       "      <td>second-round</td>\n",
       "      <td>05/09/2007</td>\n",
       "      <td>22:00</td>\n",
       "      <td>SAN ISIDRO</td>\n",
       "      <td>2.0</td>\n",
       "      <td>5.0</td>\n",
       "      <td>PORTUENSE</td>\n",
       "      <td>spain_cup</td>\n",
       "    </tr>\n",
       "  </tbody>\n",
       "</table>\n",
       "</div>"
      ],
      "text/plain": [
       "              Round        Date   Time         Home_Team  Home_Score  \\\n",
       "43565  second-round  05/01/2021  18:00          UD IBIZA         5.0   \n",
       "41960      round-32  05/11/2002  22:30  RACING DE FERROL         3.0   \n",
       "42274  second-round  05/09/2007  22:00        SAN ISIDRO         2.0   \n",
       "\n",
       "       Away_Score            Away_Team Competition  \n",
       "43565         2.0           CELTA VIGO   spain_cup  \n",
       "41960         4.0  DEPORTIVO LA CORUNA   spain_cup  \n",
       "42274         5.0            PORTUENSE   spain_cup  "
      ]
     },
     "metadata": {},
     "output_type": "display_data"
    },
    {
     "data": {
      "text/html": [
       "<div>\n",
       "<style scoped>\n",
       "    .dataframe tbody tr th:only-of-type {\n",
       "        vertical-align: middle;\n",
       "    }\n",
       "\n",
       "    .dataframe tbody tr th {\n",
       "        vertical-align: top;\n",
       "    }\n",
       "\n",
       "    .dataframe thead th {\n",
       "        text-align: right;\n",
       "    }\n",
       "</style>\n",
       "<table border=\"1\" class=\"dataframe\">\n",
       "  <thead>\n",
       "    <tr style=\"text-align: right;\">\n",
       "      <th></th>\n",
       "      <th>Round</th>\n",
       "      <th>Date</th>\n",
       "      <th>Time</th>\n",
       "      <th>Home_Team</th>\n",
       "      <th>Home_Score</th>\n",
       "      <th>Away_Score</th>\n",
       "      <th>Away_Team</th>\n",
       "      <th>Competition</th>\n",
       "    </tr>\n",
       "  </thead>\n",
       "  <tbody>\n",
       "    <tr>\n",
       "      <th>43929</th>\n",
       "      <td>first-round</td>\n",
       "      <td>09/11/2003</td>\n",
       "      <td>17:00</td>\n",
       "      <td>NOTTS COUNTY</td>\n",
       "      <td>7.0</td>\n",
       "      <td>2.0</td>\n",
       "      <td>SHILDON</td>\n",
       "      <td>england_cup</td>\n",
       "    </tr>\n",
       "    <tr>\n",
       "      <th>45908</th>\n",
       "      <td>first-round</td>\n",
       "      <td>05/11/2016</td>\n",
       "      <td>17:00</td>\n",
       "      <td>DARTFORD</td>\n",
       "      <td>3.0</td>\n",
       "      <td>6.0</td>\n",
       "      <td>SUTTON UTD</td>\n",
       "      <td>england_cup</td>\n",
       "    </tr>\n",
       "  </tbody>\n",
       "</table>\n",
       "</div>"
      ],
      "text/plain": [
       "             Round        Date   Time     Home_Team  Home_Score  Away_Score  \\\n",
       "43929  first-round  09/11/2003  17:00  NOTTS COUNTY         7.0         2.0   \n",
       "45908  first-round  05/11/2016  17:00      DARTFORD         3.0         6.0   \n",
       "\n",
       "        Away_Team  Competition  \n",
       "43929     SHILDON  england_cup  \n",
       "45908  SUTTON UTD  england_cup  "
      ]
     },
     "metadata": {},
     "output_type": "display_data"
    },
    {
     "data": {
      "text/html": [
       "<div>\n",
       "<style scoped>\n",
       "    .dataframe tbody tr th:only-of-type {\n",
       "        vertical-align: middle;\n",
       "    }\n",
       "\n",
       "    .dataframe tbody tr th {\n",
       "        vertical-align: top;\n",
       "    }\n",
       "\n",
       "    .dataframe thead th {\n",
       "        text-align: right;\n",
       "    }\n",
       "</style>\n",
       "<table border=\"1\" class=\"dataframe\">\n",
       "  <thead>\n",
       "    <tr style=\"text-align: right;\">\n",
       "      <th></th>\n",
       "      <th>Round</th>\n",
       "      <th>Date</th>\n",
       "      <th>Time</th>\n",
       "      <th>Home_Team</th>\n",
       "      <th>Home_Score</th>\n",
       "      <th>Away_Score</th>\n",
       "      <th>Away_Team</th>\n",
       "      <th>Competition</th>\n",
       "    </tr>\n",
       "  </thead>\n",
       "  <tbody>\n",
       "    <tr>\n",
       "      <th>46890</th>\n",
       "      <td>first-round</td>\n",
       "      <td>21/08/2004</td>\n",
       "      <td>16:00</td>\n",
       "      <td>FC SCHONBERG 95</td>\n",
       "      <td>0.0</td>\n",
       "      <td>15.0</td>\n",
       "      <td>FC KAISERSLAUTERN</td>\n",
       "      <td>germany_cup</td>\n",
       "    </tr>\n",
       "  </tbody>\n",
       "</table>\n",
       "</div>"
      ],
      "text/plain": [
       "             Round        Date   Time        Home_Team  Home_Score  \\\n",
       "46890  first-round  21/08/2004  16:00  FC SCHONBERG 95         0.0   \n",
       "\n",
       "       Away_Score          Away_Team  Competition  \n",
       "46890        15.0  FC KAISERSLAUTERN  germany_cup  "
      ]
     },
     "metadata": {},
     "output_type": "display_data"
    },
    {
     "data": {
      "text/html": [
       "<div>\n",
       "<style scoped>\n",
       "    .dataframe tbody tr th:only-of-type {\n",
       "        vertical-align: middle;\n",
       "    }\n",
       "\n",
       "    .dataframe tbody tr th {\n",
       "        vertical-align: top;\n",
       "    }\n",
       "\n",
       "    .dataframe thead th {\n",
       "        text-align: right;\n",
       "    }\n",
       "</style>\n",
       "<table border=\"1\" class=\"dataframe\">\n",
       "  <thead>\n",
       "    <tr style=\"text-align: right;\">\n",
       "      <th></th>\n",
       "      <th>Round</th>\n",
       "      <th>Date</th>\n",
       "      <th>Time</th>\n",
       "      <th>Home_Team</th>\n",
       "      <th>Home_Score</th>\n",
       "      <th>Away_Score</th>\n",
       "      <th>Away_Team</th>\n",
       "      <th>Competition</th>\n",
       "    </tr>\n",
       "  </thead>\n",
       "  <tbody>\n",
       "    <tr>\n",
       "      <th>50076</th>\n",
       "      <td>EIGHTH ROUND</td>\n",
       "      <td>27/11/2021</td>\n",
       "      <td>16:00</td>\n",
       "      <td>CHAMBERY</td>\n",
       "      <td>4.0</td>\n",
       "      <td>6.0</td>\n",
       "      <td>AUXERRE</td>\n",
       "      <td>france_cup</td>\n",
       "    </tr>\n",
       "  </tbody>\n",
       "</table>\n",
       "</div>"
      ],
      "text/plain": [
       "              Round        Date   Time Home_Team  Home_Score  Away_Score  \\\n",
       "50076  EIGHTH ROUND  27/11/2021  16:00  CHAMBERY         4.0         6.0   \n",
       "\n",
       "      Away_Team Competition  \n",
       "50076   AUXERRE  france_cup  "
      ]
     },
     "metadata": {},
     "output_type": "display_data"
    },
    {
     "data": {
      "text/html": [
       "<div>\n",
       "<style scoped>\n",
       "    .dataframe tbody tr th:only-of-type {\n",
       "        vertical-align: middle;\n",
       "    }\n",
       "\n",
       "    .dataframe tbody tr th {\n",
       "        vertical-align: top;\n",
       "    }\n",
       "\n",
       "    .dataframe thead th {\n",
       "        text-align: right;\n",
       "    }\n",
       "</style>\n",
       "<table border=\"1\" class=\"dataframe\">\n",
       "  <thead>\n",
       "    <tr style=\"text-align: right;\">\n",
       "      <th></th>\n",
       "      <th>Round</th>\n",
       "      <th>Date</th>\n",
       "      <th>Time</th>\n",
       "      <th>Home_Team</th>\n",
       "      <th>Home_Score</th>\n",
       "      <th>Away_Score</th>\n",
       "      <th>Away_Team</th>\n",
       "      <th>Competition</th>\n",
       "    </tr>\n",
       "  </thead>\n",
       "  <tbody>\n",
       "    <tr>\n",
       "      <th>50269</th>\n",
       "      <td>third-round</td>\n",
       "      <td>20/11/2004</td>\n",
       "      <td>16:00</td>\n",
       "      <td>LECCE</td>\n",
       "      <td>4.0</td>\n",
       "      <td>5.0</td>\n",
       "      <td>UDINESE</td>\n",
       "      <td>italy_cup</td>\n",
       "    </tr>\n",
       "  </tbody>\n",
       "</table>\n",
       "</div>"
      ],
      "text/plain": [
       "             Round        Date   Time Home_Team  Home_Score  Away_Score  \\\n",
       "50269  third-round  20/11/2004  16:00     LECCE         4.0         5.0   \n",
       "\n",
       "      Away_Team Competition  \n",
       "50269   UDINESE   italy_cup  "
      ]
     },
     "metadata": {},
     "output_type": "display_data"
    }
   ],
   "source": [
    "competition_list = list(only_U_winners_2_goals['Competition'].unique())\n",
    "for x in competition_list:\n",
    "    U_winners_per_comp = only_U_winners_2_goals[only_U_winners_2_goals['Competition'] == x]\n",
    "    most_goals = U_winners_per_comp.loc[U_winners_per_comp['total_goals'] == U_winners_per_comp['total_goals'].max()]\n",
    "    display(most_goals[['Round', 'Date', 'Time', 'Home_Team', 'Home_Score', 'Away_Score', 'Away_Team', 'Competition']])"
   ]
  },
  {
   "cell_type": "markdown",
   "id": "67428806",
   "metadata": {},
   "source": [
    "Thus, we obtain the bunch of matches, which meet father's expectations, therefore he has something to opt from"
   ]
  },
  {
   "cell_type": "markdown",
   "id": "9a5694fe",
   "metadata": {},
   "source": [
    "But we are not done yet, now we go to the second step of the plan - finding out the most suitable competition to follow in the future."
   ]
  },
  {
   "cell_type": "markdown",
   "id": "6850d65f",
   "metadata": {},
   "source": [
    "For this purpose we need to manipulate the dataset a bit and extract some useful information about represented competitions, according to wishes, such a season of matchs was played. In our case whether it was summer or not:"
   ]
  },
  {
   "cell_type": "code",
   "execution_count": 20,
   "id": "ce6d425d",
   "metadata": {},
   "outputs": [],
   "source": [
    "football_data['Date'] = pd.to_datetime(football_data['Date'], infer_datetime_format=True)"
   ]
  },
  {
   "cell_type": "code",
   "execution_count": 21,
   "id": "72c2878d",
   "metadata": {},
   "outputs": [],
   "source": [
    "months = football_data['Date'].dt.month\n",
    "months_list = months.to_list()\n",
    "summer_season = []\n",
    "for x in months_list:\n",
    "    if x == 6 or x == 7 or x == 8:\n",
    "        summer_season.append('yes')\n",
    "    else:\n",
    "        summer_season.append('no')\n",
    "football_data.insert(football_data.shape[1], 'summer', summer_season)"
   ]
  },
  {
   "cell_type": "markdown",
   "id": "7118838f",
   "metadata": {},
   "source": [
    "Now let's separate matches according to the season of the matchday:"
   ]
  },
  {
   "cell_type": "code",
   "execution_count": 22,
   "id": "9f24d479",
   "metadata": {},
   "outputs": [],
   "source": [
    "summer_foot = football_data.loc[football_data['summer'] == 'yes']"
   ]
  },
  {
   "cell_type": "markdown",
   "id": "2c70fcd4",
   "metadata": {},
   "source": [
    "Further proceeding to the next condition leave out only the games where at least 2 goals were scored:"
   ]
  },
  {
   "cell_type": "code",
   "execution_count": 23,
   "id": "3acc93ff",
   "metadata": {},
   "outputs": [],
   "source": [
    "summer_foot_min_2 = summer_foot.loc[(summer_foot['total_goals']>= 2) | (summer_foot['total_goals_AET']>= 2)]\n"
   ]
  },
  {
   "cell_type": "markdown",
   "id": "a33ba85e",
   "metadata": {},
   "source": [
    "Then we sieve the data, so only the matches started not later than 8 p.m. left over:"
   ]
  },
  {
   "cell_type": "code",
   "execution_count": 24,
   "id": "ef0f9c05",
   "metadata": {},
   "outputs": [
    {
     "data": {
      "text/plain": [
       "array(['22:30', '20:00', '21:00', '21:30', '22:00', '23:00', '23:15',\n",
       "       '22:45', '23:30', '20:30', '18:00', '19:00', '13:00', '17:00',\n",
       "       '00:00', '19:30', '21:45', '19:15', '21:15', '15:00', '18:30',\n",
       "       '19:05', '15:15', '15:30', '14:45', '16:00', '18:05', '18:10',\n",
       "       '14:00', '17:15', '14:15', '14:50', '15:35', '14:05', '14:30',\n",
       "       '22:15', '18:15', '16:15', '17:30', '20:45', '22:40', '22:35',\n",
       "       '16:30', '21:35', '16:40', '21:40', '16:35', '22:50', '19:55',\n",
       "       '19:45', '21:25', '22:10', '18:45', '22:05', '20:05'], dtype=object)"
      ]
     },
     "execution_count": 24,
     "metadata": {},
     "output_type": "execute_result"
    }
   ],
   "source": [
    "#figured out time represnted unique time\n",
    "summer_foot['Time'].unique()"
   ]
  },
  {
   "cell_type": "code",
   "execution_count": 25,
   "id": "3f619f82",
   "metadata": {},
   "outputs": [],
   "source": [
    "#filter from opposite of required condition, because there are even more instances \n",
    "#of desirable beginning time, so the forming of the list for slicing would be more cumbersome process\n",
    "\n",
    "#slicing itself\n",
    "unneeded_starttime = ['21:00', '21:30', '23:00', '23:15', '22:00', '22:30',\n",
    "       '22:45', '23:30', '20:30','00:00','21:45','21:15','22:15','20:45','22:40','21:35','21:40','22:50','21:25', '22:35', '22:05',\n",
    "       '20:05']\n",
    "summer_foot_2_before8 = summer_foot_min_2[~summer_foot_min_2['Time'].isin(unneeded_starttime)]"
   ]
  },
  {
   "cell_type": "markdown",
   "id": "f0b446ee",
   "metadata": {},
   "source": [
    "Eventually, considering the fourth want - team with letter 'u' beat the opponent, who doesn't have it in its name, we make the final slicing:"
   ]
  },
  {
   "cell_type": "code",
   "execution_count": 26,
   "id": "f79e5e98",
   "metadata": {},
   "outputs": [],
   "source": [
    "#all matches are considered, including both with extra times and without\n",
    "desired_hm = summer_foot_2_before8[(summer_foot_2_before8['where_U'] == 'home') & (summer_foot_2_before8['result']=='home_win')]\n",
    "desired_aw = summer_foot_2_before8[(summer_foot_2_before8['where_U'] == 'away') & (summer_foot_2_before8['result']=='away_win')]\n",
    "desired_hm_AET = summer_foot_2_before8[(summer_foot_2_before8['where_U'] == 'home') & (summer_foot_2_before8['result_AET']=='home_win')]\n",
    "desired_aw_AET = summer_foot_2_before8[(summer_foot_2_before8['where_U'] == 'away') & (summer_foot_2_before8['result_AET']=='away_win')]\n",
    "desired_matches = pd.concat([desired_hm, desired_aw, desired_hm_AET, desired_aw_AET], axis = 0)"
   ]
  },
  {
   "cell_type": "markdown",
   "id": "c197870c",
   "metadata": {},
   "source": [
    "Let's find out what competition is the richest on dad's dream matches:"
   ]
  },
  {
   "cell_type": "code",
   "execution_count": 27,
   "id": "b59e56f7",
   "metadata": {},
   "outputs": [],
   "source": [
    "import matplotlib.pyplot as plt\n",
    "import seaborn as sns"
   ]
  },
  {
   "cell_type": "code",
   "execution_count": 65,
   "id": "5671ab0a",
   "metadata": {},
   "outputs": [
    {
     "data": {
      "image/png": "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\n",
      "text/plain": [
       "<Figure size 640x480 with 1 Axes>"
      ]
     },
     "metadata": {},
     "output_type": "display_data"
    }
   ],
   "source": [
    "g = sns.countplot(x='Competition', data=desired_matches, hue = 'Country')\n",
    "plt.xticks(rotation=70)\n",
    "#fig.set_size_inches(3, 2)\n",
    "#sns.set(rc={'figure.figsize':(8,3)})\n",
    "plt.legend(fontsize = 9)\n",
    "sns.set_style('darkgrid')\n",
    "g.set_title('Amount of dream matches per competition', y=1.03)\n",
    "g.set(ylabel = 'Matches')\n",
    "plt.show()"
   ]
  },
  {
   "cell_type": "markdown",
   "id": "10ba9e74",
   "metadata": {},
   "source": [
    "-------------------------------------------------------------------------------------------------------------------------------\n",
    "As we can see, the german tournaments, especially deutsch fa-cup, seem the most attractive to watch in the future.\n",
    "The third place is grabbed by english premier-league with the amount of 53 matches, whereas Spain is the place not to visit for my dad, at least, considering football tourism. "
   ]
  },
  {
   "cell_type": "markdown",
   "id": "66e2e2d5",
   "metadata": {},
   "source": [
    "The time to answer the last question has come. "
   ]
  },
  {
   "cell_type": "markdown",
   "id": "3bc9efb3",
   "metadata": {},
   "source": [
    "What is the best team to support for my father? To find out that, the next steps will be taken:"
   ]
  },
  {
   "cell_type": "code",
   "execution_count": 29,
   "id": "cfdc8a8c",
   "metadata": {},
   "outputs": [],
   "source": [
    "#extracting all different football clubs in the dataframe\n",
    "all_teams = list(desired_matches['Home_Team'].unique()) + list(desired_matches['Away_Team'].unique())\n",
    "all_uniq_teams = list(set(all_teams))"
   ]
  },
  {
   "cell_type": "code",
   "execution_count": 30,
   "id": "1fdba86d",
   "metadata": {},
   "outputs": [],
   "source": [
    "#Calculate the amount of matches every team participated in\n",
    "FC_dict = {}\n",
    "for x in all_uniq_teams:\n",
    "    i=0\n",
    "    for index, row in desired_matches.iterrows():\n",
    "        if row['Home_Team'] == x or row['Away_Team'] == x:\n",
    "            i += 1\n",
    "    FC_dict[x] = i"
   ]
  },
  {
   "cell_type": "markdown",
   "id": "bf02ad6c",
   "metadata": {},
   "source": [
    "For better representation turn it into the dataframe format and get top 10 teams to follow in the next year:"
   ]
  },
  {
   "cell_type": "code",
   "execution_count": 31,
   "id": "c94a8190",
   "metadata": {},
   "outputs": [
    {
     "data": {
      "text/html": [
       "<div>\n",
       "<style scoped>\n",
       "    .dataframe tbody tr th:only-of-type {\n",
       "        vertical-align: middle;\n",
       "    }\n",
       "\n",
       "    .dataframe tbody tr th {\n",
       "        vertical-align: top;\n",
       "    }\n",
       "\n",
       "    .dataframe thead th {\n",
       "        text-align: right;\n",
       "    }\n",
       "</style>\n",
       "<table border=\"1\" class=\"dataframe\">\n",
       "  <thead>\n",
       "    <tr style=\"text-align: right;\">\n",
       "      <th></th>\n",
       "      <th>Name</th>\n",
       "      <th>Number of occurences</th>\n",
       "    </tr>\n",
       "  </thead>\n",
       "  <tbody>\n",
       "    <tr>\n",
       "      <th>0</th>\n",
       "      <td>MANCHESTER UTD</td>\n",
       "      <td>19</td>\n",
       "    </tr>\n",
       "    <tr>\n",
       "      <th>1</th>\n",
       "      <td>BAYERN MUNICH</td>\n",
       "      <td>18</td>\n",
       "    </tr>\n",
       "    <tr>\n",
       "      <th>2</th>\n",
       "      <td>BAYER LEVERKUSEN</td>\n",
       "      <td>16</td>\n",
       "    </tr>\n",
       "    <tr>\n",
       "      <th>3</th>\n",
       "      <td>VfL WOLFSBURG</td>\n",
       "      <td>16</td>\n",
       "    </tr>\n",
       "    <tr>\n",
       "      <th>4</th>\n",
       "      <td>BORUSSIA DORTMUND</td>\n",
       "      <td>13</td>\n",
       "    </tr>\n",
       "    <tr>\n",
       "      <th>5</th>\n",
       "      <td>HERTHA BERLIN</td>\n",
       "      <td>13</td>\n",
       "    </tr>\n",
       "    <tr>\n",
       "      <th>6</th>\n",
       "      <td>WERDER BREMEN</td>\n",
       "      <td>13</td>\n",
       "    </tr>\n",
       "    <tr>\n",
       "      <th>7</th>\n",
       "      <td>BORUSSIA MONCHENGLADBACH</td>\n",
       "      <td>13</td>\n",
       "    </tr>\n",
       "    <tr>\n",
       "      <th>8</th>\n",
       "      <td>VfB STUTTGART</td>\n",
       "      <td>12</td>\n",
       "    </tr>\n",
       "    <tr>\n",
       "      <th>9</th>\n",
       "      <td>EINTRACHT FRANKFURT</td>\n",
       "      <td>11</td>\n",
       "    </tr>\n",
       "  </tbody>\n",
       "</table>\n",
       "</div>"
      ],
      "text/plain": [
       "                       Name  Number of occurences\n",
       "0            MANCHESTER UTD                    19\n",
       "1             BAYERN MUNICH                    18\n",
       "2          BAYER LEVERKUSEN                    16\n",
       "3             VfL WOLFSBURG                    16\n",
       "4         BORUSSIA DORTMUND                    13\n",
       "5             HERTHA BERLIN                    13\n",
       "6             WERDER BREMEN                    13\n",
       "7  BORUSSIA MONCHENGLADBACH                    13\n",
       "8             VfB STUTTGART                    12\n",
       "9       EINTRACHT FRANKFURT                    11"
      ]
     },
     "metadata": {},
     "output_type": "display_data"
    }
   ],
   "source": [
    "Teams_ser = pd.Series(FC_dict)\n",
    "team_df = pd.DataFrame({'Name':Teams_ser.index, 'Number of occurences':Teams_ser.values})\n",
    "team_df_sorted = team_df.sort_values('Number of occurences', ascending = False).reset_index(drop=True)\n",
    "top_10_teams = team_df_sorted.head(10)\n",
    "display(top_10_teams)\n",
    "\n"
   ]
  },
  {
   "cell_type": "code",
   "execution_count": 64,
   "id": "421fc2ad",
   "metadata": {},
   "outputs": [
    {
     "data": {
      "image/png": "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\n",
      "text/plain": [
       "<Figure size 640x480 with 1 Axes>"
      ]
     },
     "metadata": {},
     "output_type": "display_data"
    }
   ],
   "source": [
    "#Additionally create plot for the best comprehension:\n",
    "g1 = sns.barplot(x='Name', y='Number of occurences', data=top_10_teams)\n",
    "plt.xticks(rotation=70)\n",
    "#fig.set_size_inches(3, 2)\n",
    "#sns.set(rc={'figure.figsize':(8,3)})\n",
    "sns.set_style('darkgrid')\n",
    "g1.set_title('Amount of dream matches per competition', y=1.03)\n",
    "g1.set(ylabel = 'Matches')\n",
    "plt.yticks(np.arange(min(top_10_teams['Number of occurences'])-2, max(top_10_teams['Number of occurences']), step = 1))\n",
    "plt.ylim(min(top_10_teams['Number of occurences'])-2, max(top_10_teams['Number of occurences'])+1)\n",
    "plt.show()"
   ]
  },
  {
   "cell_type": "markdown",
   "id": "66952a02",
   "metadata": {},
   "source": [
    "# Bottom Line"
   ]
  },
  {
   "cell_type": "markdown",
   "id": "a7d4a5c2",
   "metadata": {},
   "source": [
    "1. We have got the big list of matches from the past to choose from when there is nothing interesting live\n",
    "2. Germany is on top, both national cup and league are super attractive. Then there is English premier league, which finds itself in the middle, having the gap both between german tournaments and other ones.  \n",
    "3. Germany is again the best option, there is a bunch of teams, who can fit dad's perfect game. Still Manchester United makes the UK football a bit more attractive from this perspective"
   ]
  },
 ],
 "metadata": {
  "kernelspec": {
   "display_name": "Python 3 (ipykernel)",
   "language": "python",
   "name": "python3"
  },
  "language_info": {
   "codemirror_mode": {
    "name": "ipython",
    "version": 3
   },
   "file_extension": ".py",
   "mimetype": "text/x-python",
   "name": "python",
   "nbconvert_exporter": "python",
   "pygments_lexer": "ipython3",
   "version": "3.9.13"
  }
 },
 "nbformat": 4,
 "nbformat_minor": 5
}
